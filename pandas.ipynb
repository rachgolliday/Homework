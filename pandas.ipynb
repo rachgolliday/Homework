{
 "cells": [
  {
   "cell_type": "markdown",
   "metadata": {},
   "source": []
  },
  {
   "cell_type": "code",
   "execution_count": 10,
   "metadata": {},
   "outputs": [
    {
     "name": "stdout",
     "output_type": "stream",
     "text": [
      "Concat 2 lists ...\n",
      "          0      1\n",
      "0    Spark  22000\n",
      "1  PySpark  25000\n",
      "2   Hadoop  23000\n",
      "\n",
      "Concat 3 lists ...\n",
      "          0      1     2\n",
      "0    Spark  22000  1000\n",
      "1  PySpark  25000  2300\n",
      "2   Hadoop  23000  1000\n"
     ]
    }
   ],
   "source": [
    "# you can combine multiple series along a particular axis (column-wise or row-wise)\n",
    "import pandas as pd\n",
    "\n",
    "# Create pandas Series\n",
    "courses = pd.Series([\"Spark\",\"PySpark\",\"Hadoop\"])\n",
    "fees = pd.Series([22000,25000,23000])\n",
    "discount  = pd.Series([1000,2300,1000])\n",
    "\n",
    "# Combine two Series\n",
    "df = pd.concat([courses, fees], axis=1)\n",
    "print(\"Concat 2 lists ...\\n\", df)\n",
    "\n",
    "# Combine multiple Series\n",
    "df = pd.concat([courses, fees, discount], axis=1)\n",
    "print(\"\\nConcat 3 lists ...\\n\", df)\n",
    "\n"
   ]
  },
  {
   "cell_type": "code",
   "execution_count": 12,
   "metadata": {},
   "outputs": [
    {
     "name": "stdout",
     "output_type": "stream",
     "text": [
      "   courses   fees  discount\n",
      "0    Spark  22000      1000\n",
      "1  PySpark  25000      2300\n",
      "2   Hadoop  23000      1000\n",
      "    Courses  Course_Fee  Course_Discount\n",
      "r1    Spark       22000             1000\n",
      "r2  PySpark       25000             2300\n",
      "r3   Hadoop       23000             1000\n"
     ]
    }
   ],
   "source": [
    "# Create Series by assigning names to each column\n",
    "import pandas as pd\n",
    "\n",
    "courses = pd.Series([\"Spark\",\"PySpark\",\"Hadoop\"], name='courses')\n",
    "fees = pd.Series([22000,25000,23000], name='fees')\n",
    "discount  = pd.Series([1000,2300,1000],name='discount')\n",
    "\n",
    "df = pd.concat([courses,fees,discount],axis=1)\n",
    "print(df)\n",
    "\n",
    "\n"
   ]
  },
  {
   "cell_type": "code",
   "execution_count": 15,
   "metadata": {},
   "outputs": [
    {
     "name": "stdout",
     "output_type": "stream",
     "text": [
      "    Courses  Course_Fee  Course_Discount\n",
      "r1    Spark       22000             1000\n",
      "r2  PySpark       25000             2300\n",
      "r3   Hadoop       23000             1000\n"
     ]
    }
   ],
   "source": [
    "# Create Series with assigned indexes and provide custom column names\n",
    "import pandas as pd\n",
    "\n",
    "courses = pd.Series([\"Spark\",\"PySpark\",\"Hadoop\"], name='courses')\n",
    "fees = pd.Series([22000,25000,23000], name='fees')\n",
    "discount  = pd.Series([1000,2300,1000],name='discount')\n",
    "\n",
    "# Assign Index to Series\n",
    "index_labels=['r1','r2','r3']\n",
    "courses.index = index_labels\n",
    "fees.index = index_labels\n",
    "discount.index = index_labels\n",
    "\n",
    "# Concat Series by Changing Names\n",
    "df = pd.concat({'Courses': courses,\n",
    "                'Course_Fee': fees,\n",
    "                'Course_Discount': discount},axis=1)\n",
    "print(df)"
   ]
  },
  {
   "cell_type": "code",
   "execution_count": 17,
   "metadata": {},
   "outputs": [
    {
     "name": "stdout",
     "output_type": "stream",
     "text": [
      "  index  Courses  Course_Fee  Course_Discount\n",
      "0    r1    Spark       22000             1000\n",
      "1    r2  PySpark       25000             2300\n",
      "2    r3   Hadoop       23000             1000\n"
     ]
    }
   ],
   "source": [
    "# Create Series with assigned indexes and provide custom column names to each\n",
    "import pandas as pd\n",
    "\n",
    "courses = pd.Series([\"Spark\",\"PySpark\",\"Hadoop\"], name='courses')\n",
    "fees = pd.Series([22000,25000,23000], name='fees')\n",
    "discount  = pd.Series([1000,2300,1000],name='discount')\n",
    "\n",
    "# Assign Index to Series\n",
    "index_labels = ['r1','r2','r3']\n",
    "courses.index = index_labels\n",
    "fees.index = index_labels\n",
    "discount.index = index_labels\n",
    "\n",
    "# Concat Series by Changing Names\n",
    "df=pd.concat({'Courses': courses,\n",
    "                'Course_Fee': fees,\n",
    "                'Course_Discount': discount},axis=1)\n",
    "\n",
    "#change the index to a column & create new index\n",
    "df = df.reset_index()\n",
    "\n",
    "print(df)"
   ]
  },
  {
   "cell_type": "code",
   "execution_count": 18,
   "metadata": {},
   "outputs": [
    {
     "name": "stdout",
     "output_type": "stream",
     "text": [
      "   courses   fees\n",
      "0    Spark  22000\n",
      "1  PySpark  25000\n",
      "2   Hadoop  23000\n"
     ]
    }
   ],
   "source": [
    "# Create Series by assigning names\n",
    "import pandas as pd\n",
    "\n",
    "courses = pd.Series([\"Spark\",\"PySpark\",\"Hadoop\"], name='courses')\n",
    "fees = pd.Series([22000,25000,23000], name='fees')\n",
    "\n",
    "# using pandas series merge()\n",
    "df = pd.merge(courses, fees, right_index = True,\n",
    "                left_index = True)\n",
    "print(df)"
   ]
  },
  {
   "cell_type": "code",
   "execution_count": 19,
   "metadata": {},
   "outputs": [
    {
     "name": "stdout",
     "output_type": "stream",
     "text": [
      "  all_courses\n",
      "0       Spark\n",
      "1     PySpark\n",
      "2      Hadoop\n",
      "3      Pandas\n",
      "4      Python\n",
      "5       Scala\n"
     ]
    },
    {
     "name": "stderr",
     "output_type": "stream",
     "text": [
      "C:\\Users\\Savvy Coders\\AppData\\Local\\Temp\\ipykernel_9348\\3794269301.py:7: FutureWarning: The series.append method is deprecated and will be removed from pandas in a future version. Use pandas.concat instead.\n",
      "  df = pd.DataFrame(courses_am.append(courses_pm,\n"
     ]
    }
   ],
   "source": [
    "# Using Series.append()\n",
    "import pandas as pd\n",
    "\n",
    "courses_am = pd.Series([\"Spark\",\"PySpark\",\"Hadoop\"])\n",
    "courses_pm = pd.Series([\"Pandas\",\"Python\",\"Scala\"])\n",
    "\n",
    "df = pd.DataFrame(courses_am.append(courses_pm,\n",
    "                                    ignore_index = True),\n",
    "                    columns=['all_courses'])\n",
    "print(df)"
   ]
  },
  {
   "cell_type": "code",
   "execution_count": 21,
   "metadata": {},
   "outputs": [
    {
     "name": "stdout",
     "output_type": "stream",
     "text": [
      "         0\n",
      "0    Spark\n",
      "1  PySpark\n",
      "2   Hadoop\n",
      "3   Pandas\n",
      "4   Python\n",
      "5    Scala\n"
     ]
    }
   ],
   "source": [
    "# Using concat()\n",
    "import pandas as pd\n",
    "\n",
    "courses_am = pd.Series([\"Spark\",\"PySpark\",\"Hadoop\"])\n",
    "courses_pm = pd.Series([\"Pandas\",\"Python\",\"Scala\"])\n",
    "\n",
    "df = pd.DataFrame(pd.concat([courses_am,courses_pm], ignore_index=True))\n",
    "\n",
    "print(df)"
   ]
  },
  {
   "cell_type": "code",
   "execution_count": 22,
   "metadata": {},
   "outputs": [
    {
     "name": "stdout",
     "output_type": "stream",
     "text": [
      "Original DataFrame ...\n",
      "          Country  Year   Population Continent\n",
      "0    Afghanistan  1952    8425333.0      Asia\n",
      "1      Australia  1957    9712569.0   Oceania\n",
      "2         Brazil  1962   76039390.0  Americas\n",
      "3          China  1957  637408000.0      Asia\n",
      "4         France  1957   44310863.0    Europe\n",
      "5          India  1952  372000000.0      Asia\n",
      "6   South Africa  1966          0.0    Africa\n",
      "7  United States  1957  171984000.0  Americas\n",
      "\n",
      "DF sorting multiple columns in different order ...\n",
      "          Country  Year   Population Continent\n",
      "7  United States  1957  171984000.0  Americas\n",
      "6   South Africa  1966          0.0    Africa\n",
      "5          India  1952  372000000.0      Asia\n",
      "4         France  1957   44310863.0    Europe\n",
      "3          China  1957  637408000.0      Asia\n",
      "2         Brazil  1962   76039390.0  Americas\n",
      "1      Australia  1957    9712569.0   Oceania\n",
      "0    Afghanistan  1952    8425333.0      Asia\n"
     ]
    }
   ],
   "source": [
    "# importing Pandas library\n",
    "import pandas as pd\n",
    "\n",
    "# creating and initializing a nested list\n",
    "age_list = [['Afghanistan', 1952, 8425333, 'Asia'],\n",
    "            ['Australia', 1957, 9712569, 'Oceania'],\n",
    "            ['Brazil', 1962, 76039390, 'Americas'],\n",
    "            ['China', 1957, 637408000, 'Asia'],\n",
    "            ['France', 1957, 44310863, 'Europe'],\n",
    "            ['India', 1952, 3.72e+08, 'Asia'],\n",
    "            ['South Africa', 1966, 0.0, 'Africa'],\n",
    "            ['United States', 1957, 171984000, 'Americas']]\n",
    "\n",
    "# creating a Pandas DataFrame\n",
    "import pandas as pd\n",
    "\n",
    "df = pd.DataFrame(age_list, columns=['Country', 'Year',\n",
    "                                    'Population', 'Continent'])\n",
    "print(\"Original DataFrame ...\\n\", df)\n",
    "\n",
    "#### ASCENDING EXAMPLE ####\n",
    "# Sorting the DataFrame in Ascending order -- Sorting by column 'Continent'\n",
    "df.sort_values(by = ['Continent'], inplace = True)\n",
    "#print(\"\\nDF sorted by Continent ...\\n\", df)\n",
    "\n",
    "\n",
    "#### DESCENDING EXAMPLE ####\n",
    "# Sorting the Data frame in Descending order -- Sorting by column \"Population\"\n",
    "df.sort_values(by = ['Country'], inplace = True, ascending = False)\n",
    "# print(\"\\nDF sorted by Country descending ...\\n\", df)\n",
    "\n",
    "\n",
    "#### MISSING VALUES EXAMPLE ####\n",
    "# Sorting column \"Population\" by putting missing values first\n",
    "df.sort_values(by = ['Population'], inplace = True, na_position = 'first')\n",
    "# print(\"\\nDF sorted by missing values first ...\\n\", df)\n",
    "\n",
    "\n",
    "#### MULTI COLUMN SORT EXAMPLE ####\n",
    "# Sorting by multiple columns -- \"Country\" and then \"Continent\"\n",
    "df.sort_values(by = ['Continent', 'Country'], inplace = True)\n",
    "# print(\"\\nDF sorting multiple columns ...\\n\", df)\n",
    "\n",
    "\n",
    "#### EXAMPLE SORT MULTI COLUMNS IN DIFFERENT ORDER ####\n",
    "# Sorting Data frames by multiple columns but different order\n",
    "# Sorting \"Country\" descending, and \"Continent\" ascending\n",
    "df.sort_values(by = ['Country', 'Continent'],\n",
    "                ascending = [False, True], inplace = True)\n",
    "print(\"\\nDF sorting multiple columns in different order ...\\n\", df)"
   ]
  },
  {
   "cell_type": "code",
   "execution_count": 28,
   "metadata": {},
   "outputs": [
    {
     "name": "stdout",
     "output_type": "stream",
     "text": [
      "Original DataFrame ...\n",
      "          Country  Year   Population Continent\n",
      "0    Afghanistan  1952    8425333.0      Asia\n",
      "1      Australia  1957    9712569.0   Oceania\n",
      "2         Brazil  1962   76039390.0  Americas\n",
      "3          China  1957  637408000.0      Asia\n",
      "4         France  1957   44310863.0    Europe\n",
      "5          India  1952  372000000.0      Asia\n",
      "6   South Africa  1966          0.0    Africa\n",
      "7  United States  1957  171984000.0  Americas\n"
     ]
    },
    {
     "ename": "ValueError",
     "evalue": "Length of ascending (2) != length of by (1)",
     "output_type": "error",
     "traceback": [
      "\u001b[1;31m---------------------------------------------------------------------------\u001b[0m",
      "\u001b[1;31mValueError\u001b[0m                                Traceback (most recent call last)",
      "Cell \u001b[1;32mIn[28], line 48\u001b[0m\n\u001b[0;32m     41\u001b[0m df\u001b[39m.\u001b[39msort_values(by \u001b[39m=\u001b[39m [\u001b[39m'\u001b[39m\u001b[39mContinent\u001b[39m\u001b[39m'\u001b[39m, \u001b[39m'\u001b[39m\u001b[39mCountry\u001b[39m\u001b[39m'\u001b[39m], inplace \u001b[39m=\u001b[39m \u001b[39mTrue\u001b[39;00m)\n\u001b[0;32m     42\u001b[0m \u001b[39m# print(\"\\nDF sorting multiple columns ...\\n\", df)\u001b[39;00m\n\u001b[0;32m     43\u001b[0m \n\u001b[0;32m     44\u001b[0m \n\u001b[0;32m     45\u001b[0m \u001b[39m#### EXAMPLE SORT MULTI COLUMNS IN DIFFERENT ORDER ####\u001b[39;00m\n\u001b[0;32m     46\u001b[0m \u001b[39m# Sorting Data frames by multiple columns but different order\u001b[39;00m\n\u001b[0;32m     47\u001b[0m \u001b[39m# Sorting \"Country\" descending, and \"Continent\" ascending\u001b[39;00m\n\u001b[1;32m---> 48\u001b[0m df\u001b[39m.\u001b[39;49msort_values(by \u001b[39m=\u001b[39;49m [\u001b[39m'\u001b[39;49m\u001b[39mPopulation\u001b[39;49m\u001b[39m'\u001b[39;49m],\n\u001b[0;32m     49\u001b[0m                 ascending \u001b[39m=\u001b[39;49m [\u001b[39mTrue\u001b[39;49;00m, \u001b[39mTrue\u001b[39;49;00m], inplace \u001b[39m=\u001b[39;49m \u001b[39mTrue\u001b[39;49;00m)\n\u001b[0;32m     50\u001b[0m \u001b[39mprint\u001b[39m(\u001b[39m\"\u001b[39m\u001b[39m\\n\u001b[39;00m\u001b[39mDF sorting multiple columns in different order ...\u001b[39m\u001b[39m\\n\u001b[39;00m\u001b[39m\"\u001b[39m, df)\n",
      "File \u001b[1;32mc:\\Users\\Savvy Coders\\AppData\\Local\\Programs\\Python\\Python311\\Lib\\site-packages\\pandas\\util\\_decorators.py:331\u001b[0m, in \u001b[0;36mdeprecate_nonkeyword_arguments.<locals>.decorate.<locals>.wrapper\u001b[1;34m(*args, **kwargs)\u001b[0m\n\u001b[0;32m    325\u001b[0m \u001b[39mif\u001b[39;00m \u001b[39mlen\u001b[39m(args) \u001b[39m>\u001b[39m num_allow_args:\n\u001b[0;32m    326\u001b[0m     warnings\u001b[39m.\u001b[39mwarn(\n\u001b[0;32m    327\u001b[0m         msg\u001b[39m.\u001b[39mformat(arguments\u001b[39m=\u001b[39m_format_argument_list(allow_args)),\n\u001b[0;32m    328\u001b[0m         \u001b[39mFutureWarning\u001b[39;00m,\n\u001b[0;32m    329\u001b[0m         stacklevel\u001b[39m=\u001b[39mfind_stack_level(),\n\u001b[0;32m    330\u001b[0m     )\n\u001b[1;32m--> 331\u001b[0m \u001b[39mreturn\u001b[39;00m func(\u001b[39m*\u001b[39;49margs, \u001b[39m*\u001b[39;49m\u001b[39m*\u001b[39;49mkwargs)\n",
      "File \u001b[1;32mc:\\Users\\Savvy Coders\\AppData\\Local\\Programs\\Python\\Python311\\Lib\\site-packages\\pandas\\core\\frame.py:6888\u001b[0m, in \u001b[0;36mDataFrame.sort_values\u001b[1;34m(self, by, axis, ascending, inplace, kind, na_position, ignore_index, key)\u001b[0m\n\u001b[0;32m   6881\u001b[0m \u001b[39m# error: Argument 1 to \"len\" has incompatible type \"Union[bool, List[bool]]\";\u001b[39;00m\n\u001b[0;32m   6882\u001b[0m \u001b[39m# expected \"Sized\"\u001b[39;00m\n\u001b[0;32m   6883\u001b[0m \u001b[39mif\u001b[39;00m is_sequence(ascending) \u001b[39mand\u001b[39;00m (\n\u001b[0;32m   6884\u001b[0m     \u001b[39mlen\u001b[39m(by) \u001b[39m!=\u001b[39m \u001b[39mlen\u001b[39m(ascending)  \u001b[39m# type: ignore[arg-type]\u001b[39;00m\n\u001b[0;32m   6885\u001b[0m ):\n\u001b[0;32m   6886\u001b[0m     \u001b[39m# error: Argument 1 to \"len\" has incompatible type \"Union[bool,\u001b[39;00m\n\u001b[0;32m   6887\u001b[0m     \u001b[39m# List[bool]]\"; expected \"Sized\"\u001b[39;00m\n\u001b[1;32m-> 6888\u001b[0m     \u001b[39mraise\u001b[39;00m \u001b[39mValueError\u001b[39;00m(\n\u001b[0;32m   6889\u001b[0m         \u001b[39mf\u001b[39m\u001b[39m\"\u001b[39m\u001b[39mLength of ascending (\u001b[39m\u001b[39m{\u001b[39;00m\u001b[39mlen\u001b[39m(ascending)\u001b[39m}\u001b[39;00m\u001b[39m)\u001b[39m\u001b[39m\"\u001b[39m  \u001b[39m# type: ignore[arg-type]\u001b[39;00m\n\u001b[0;32m   6890\u001b[0m         \u001b[39mf\u001b[39m\u001b[39m\"\u001b[39m\u001b[39m != length of by (\u001b[39m\u001b[39m{\u001b[39;00m\u001b[39mlen\u001b[39m(by)\u001b[39m}\u001b[39;00m\u001b[39m)\u001b[39m\u001b[39m\"\u001b[39m\n\u001b[0;32m   6891\u001b[0m     )\n\u001b[0;32m   6892\u001b[0m \u001b[39mif\u001b[39;00m \u001b[39mlen\u001b[39m(by) \u001b[39m>\u001b[39m \u001b[39m1\u001b[39m:\n\u001b[0;32m   6894\u001b[0m     keys \u001b[39m=\u001b[39m [\u001b[39mself\u001b[39m\u001b[39m.\u001b[39m_get_label_or_level_values(x, axis\u001b[39m=\u001b[39maxis) \u001b[39mfor\u001b[39;00m x \u001b[39min\u001b[39;00m by]\n",
      "\u001b[1;31mValueError\u001b[0m: Length of ascending (2) != length of by (1)"
     ]
    }
   ],
   "source": [
    "# importing Pandas library\n",
    "import pandas as pd\n",
    "\n",
    "# creating and initializing a nested list\n",
    "age_list = [['Afghanistan', 1952, 8425333, 'Asia'],\n",
    "            ['Australia', 1957, 9712569, 'Oceania'],\n",
    "            ['Brazil', 1962, 76039390, 'Americas'],\n",
    "            ['China', 1957, 637408000, 'Asia'],\n",
    "            ['France', 1957, 44310863, 'Europe'],\n",
    "            ['India', 1952, 3.72e+08, 'Asia'],\n",
    "            ['South Africa', 1966, 0.0, 'Africa'],\n",
    "            ['United States', 1957, 171984000, 'Americas']]\n",
    "\n",
    "# creating a Pandas DataFrame\n",
    "import pandas as pd\n",
    "\n",
    "df = pd.DataFrame(age_list, columns=['Country', 'Year',\n",
    "                                    'Population', 'Continent'])\n",
    "print(\"Original DataFrame ...\\n\", df)\n",
    "\n",
    "#### ASCENDING EXAMPLE ####\n",
    "# Sorting the DataFrame in Ascending order -- Sorting by column 'Continent'\n",
    "df.sort_values(by = ['Continent'], inplace = True)\n",
    "#print(\"\\nDF sorted by Continent ...\\n\", df)\n",
    "\n",
    "\n",
    "#### DESCENDING EXAMPLE ####\n",
    "# Sorting the Data frame in Descending order -- Sorting by column \"Population\"\n",
    "df.sort_values(by = ['Country'], inplace = True, ascending = False)\n",
    "# print(\"\\nDF sorted by Country descending ...\\n\", df)\n",
    "\n",
    "\n",
    "#### MISSING VALUES EXAMPLE ####\n",
    "# Sorting column \"Population\" by putting missing values first\n",
    "df.sort_values(by = ['Population'], inplace = True, na_position = 'first')\n",
    "# print(\"\\nDF sorted by missing values first ...\\n\", df)\n",
    "\n",
    "\n",
    "#### MULTI COLUMN SORT EXAMPLE ####\n",
    "# Sorting by multiple columns -- \"Country\" and then \"Continent\"\n",
    "df.sort_values(by = ['Continent', 'Country'], inplace = True)\n",
    "# print(\"\\nDF sorting multiple columns ...\\n\", df)\n",
    "\n",
    "\n",
    "#### EXAMPLE SORT MULTI COLUMNS IN DIFFERENT ORDER ####\n",
    "# Sorting Data frames by multiple columns but different order\n",
    "# Sorting \"Country\" descending, and \"Continent\" ascending\n",
    "df.sort_values(by = ['Country', 'Continent'],\n",
    "                ascending = [False, True], inplace = True)\n",
    "print(\"\\nDF sorting multiple columns in different order ...\\n\", df)"
   ]
  },
  {
   "cell_type": "code",
   "execution_count": 29,
   "metadata": {},
   "outputs": [
    {
     "name": "stdout",
     "output_type": "stream",
     "text": [
      "Original DataFrame ...\n",
      "      Name  Height Qualification\n",
      "0     Jai     5.1           Msc\n",
      "1  Princi     6.2            MA\n",
      "2  Gaurav     5.1           Msc\n",
      "3    Anuj     5.2           Msc\n",
      "\n",
      "DF with new column from dictionary ...\n",
      "      Name  Height  Age Qualification    Address        Pets           Sport\n",
      "0     Jai     5.1   21           Msc      Delhi         Dog           Darts\n",
      "1  Princi     6.2   23            MA  Bangalore       Bunny      Basketball\n",
      "2  Gaurav     5.1   24           Msc    Chennai  Chinchilla  PaddleBoarding\n",
      "3    Anuj     5.2   21           Msc      Patna      Parrot         Cricket\n"
     ]
    }
   ],
   "source": [
    "# Import pandas package\n",
    "import pandas as pd\n",
    "\n",
    "# Define a dictionary containing Students data\n",
    "data = {'Name': ['Jai', 'Princi', 'Gaurav', 'Anuj'],\n",
    "        'Height': [5.1, 6.2, 5.1, 5.2],\n",
    "        'Qualification': ['Msc', 'MA', 'Msc', 'Msc']}\n",
    "\n",
    "# Convert the dictionary into DataFrame\n",
    "df = pd.DataFrame(data)\n",
    "print(\"Original DataFrame ...\\n\", df)\n",
    "\n",
    "\n",
    "#### LIST AS COLUMN EXAMPLE ####\n",
    "# Declare a list that is to be converted into a column\n",
    "address = ['Delhi', 'Bangalore', 'Chennai', 'Patna']\n",
    "# Using 'Address' as the column name and equating it to the list\n",
    "df['Address'] = address\n",
    "\n",
    "# print(\"\\nDF with column from list ...\\n\", df)\n",
    "\n",
    "\n",
    "#### INSERT EXAMPLE ####\n",
    "# Using DataFrame.insert() to add a column\n",
    "df.insert(2, \"Age\", [21, 23, 24, 21],True)\n",
    "# print(\"\\nDF with insert as column 2 ...\\n\", df)\n",
    "\n",
    "\n",
    "#### ASSIGN EXAMPLE ####\n",
    "# Using 'Address' as the column name and assign it to the list\n",
    "df = df.assign(Pets=['Dog', 'Bunny', 'Chinchilla', 'Parrot'])\n",
    "\n",
    "# print(\"\\nDF with assigned column added ...\\n\", df)\n",
    "\n",
    "\n",
    "#### DICTIONARY EXAMPLE ####\n",
    "# Define a dictionary with keys of an existing column\n",
    "# and their respective values as the values for our new column\n",
    "# If a primary key is defined use that key\n",
    "sport = {'Jai': 'Darts', 'Princi': 'Basketball',\n",
    "                'Gaurav': 'PaddleBoarding', 'Anuj': 'Cricket'}\n",
    "\n",
    "# Provide 'Sport' as the new column name and map it to the key column\n",
    "df['Sport'] = df['Name'].map(sport)\n",
    "print(\"\\nDF with new column from dictionary ...\\n\", df)"
   ]
  }
 ],
 "metadata": {
  "kernelspec": {
   "display_name": "Python 3",
   "language": "python",
   "name": "python3"
  },
  "language_info": {
   "codemirror_mode": {
    "name": "ipython",
    "version": 3
   },
   "file_extension": ".py",
   "mimetype": "text/x-python",
   "name": "python",
   "nbconvert_exporter": "python",
   "pygments_lexer": "ipython3",
   "version": "3.11.1"
  },
  "orig_nbformat": 4,
  "vscode": {
   "interpreter": {
    "hash": "a72afa28c34049cb832911300c6a460f7f5dc07038f0ecb1d2a14cf1fe7e3a7d"
   }
  }
 },
 "nbformat": 4,
 "nbformat_minor": 2
}
