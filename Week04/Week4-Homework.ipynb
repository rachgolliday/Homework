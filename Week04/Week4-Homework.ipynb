{
 "cells": [
  {
   "attachments": {},
   "cell_type": "markdown",
   "metadata": {},
   "source": [
    "# Week 4 Homework Question 1\n",
    "\n",
    "1. In order to use a module, you have to first initialize the codes so they can run and process the different commands.\n"
   ]
  },
  {
   "cell_type": "code",
   "execution_count": 33,
   "metadata": {},
   "outputs": [
    {
     "name": "stdout",
     "output_type": "stream",
     "text": [
      "hi...\n",
      " [[[0. 1.]\n",
      "  [2. 3.]]\n",
      "\n",
      " [[4. 5.]\n",
      "  [6. 7.]]]\n",
      "\n",
      "hi1... [ 8 16 20 24]\n"
     ]
    }
   ],
   "source": [
    "# Two Python Math Modules\n",
    "\n",
    "# Initilizing the arrays\n",
    "import numpy as np\n",
    "\n",
    "hi = np.arange(8, dtype = np.float_).reshape(2,2,2)\n",
    "hi1 = np.array([8, 16, 20, 24])\n",
    "print(\"hi...\\n\", hi)\n",
    "print(\"\\nhi1...\", hi1)\n",
    "\n",
    "\n",
    "# adding hi and hi1 together\n",
    "hi = [0, 1, 2, 3]\n",
    "hi1 = [4, 5, 6, 7]\n",
    "sum_list = []\n",
    "\n",
    "\n"
   ]
  },
  {
   "attachments": {},
   "cell_type": "markdown",
   "metadata": {},
   "source": [
    "# Week 4 Homework Questions 3 - 12\n",
    "\n",
    "3. An errror message for when something is wrong in the code block, without this message the program will crash. \n",
    "4. Try, Except, Else, Finially\n",
    "5. NumPy is simmilar to Lists. Lists store items while NumPys only store same data types.\n",
    "6. Provides a multi-dimensional array.\n",
    "7. dtype gives us information about the array (kind and size)\n",
    "8. Sort data and supply high-level arrays\n",
    "9. arthimic operations: adding(), subtracting(), multiplying() and dividing()\n",
    "10. Tuple of non-negative integers that specify the dimensions, length and size of each array\n",
    "11. An array with 3 dimensions\n",
    "12. Lists store varius data types while arrays store only elements of the same data types\n",
    "13. If you are unsure about the information that goes in an element, you can use an empty array so you can at least have placement holders."
   ]
  },
  {
   "cell_type": "code",
   "execution_count": 116,
   "metadata": {},
   "outputs": [
    {
     "name": "stdout",
     "output_type": "stream",
     "text": [
      "Current Date and Time ...  2023-02-20 16:12:12.693063\n",
      "Current month: 2\n",
      "February\n"
     ]
    }
   ],
   "source": [
    "# getting the current time and date\n",
    "# using Date Time\n",
    "import datetime as dt\n",
    "\n",
    "# Get Current Date and Time\n",
    "now = dt.datetime.now()\n",
    "print(\"Current Date and Time ... \", now)\n",
    "\n",
    "# extracting the full month name from now\n",
    "print(\"Current month:\", now.month)\n",
    "\n",
    "week4 = datetime.datetime.now()\n",
    "\n",
    "print(week4.strftime(\"%B\"))\n"
   ]
  },
  {
   "cell_type": "code",
   "execution_count": 113,
   "metadata": {},
   "outputs": [
    {
     "name": "stdout",
     "output_type": "stream",
     "text": [
      "Hi Rachael ! Happy Sunday !\n"
     ]
    }
   ],
   "source": [
    "# Set a default value for the day name of Sunday.\n",
    "# Have the function print out a greeting -- using the parameters -- that says something like \"Hi first-name! Happy day-name!\". Remember to use the variables in the greeting to replace first-name and day-name.\n",
    "# Invoke this function with 2 variables.\n",
    "# Invoke this function with 1 variable only\n",
    "\n",
    "import datetime as dt\n",
    "# nameday(\"Rachael\", current.strftime(%A))\n",
    "\n",
    "def nameday(name = \"Rachael\", day = \"Sunday\"):\n",
    "    print(\"Hi\", name,\"! Happy\", day, \"!\")\n",
    "nameday(\"Rachael\", \"Sunday\")\n"
   ]
  },
  {
   "cell_type": "code",
   "execution_count": 115,
   "metadata": {},
   "outputs": [
    {
     "name": "stdout",
     "output_type": "stream",
     "text": [
      "The spacecar array ...\n",
      " [[[ 0  1]\n",
      "  [ 2  3]\n",
      "  [ 4  5]]\n",
      "\n",
      " [[ 6  7]\n",
      "  [ 8  9]\n",
      "  [10 11]]]\n"
     ]
    }
   ],
   "source": [
    "# Import NumPy, use one of the NumPy methods\n",
    "# create an array with a shape of ... (2, 3, 2). \n",
    "# reshape method -- .reshape()\n",
    "\n",
    "import numpy as np\n",
    "\n",
    "spacecar = np.arange(12).reshape((2, 3, 2))\n",
    "print(\"The spacecar array ...\\n\", spacecar)"
   ]
  },
  {
   "cell_type": "code",
   "execution_count": 117,
   "metadata": {},
   "outputs": [
    {
     "name": "stdout",
     "output_type": "stream",
     "text": [
      "array r ... [ 0.  4.  8. 12. 16. 20.]\n"
     ]
    }
   ],
   "source": [
    "# Use NumPy .linspace() to create an array with 6 linearly spaced values between 0 and 20\n",
    "\n",
    "import numpy as np\n",
    "\n",
    "r = np.linspace(0, 20, num=6)\n",
    "print(\"array r ...\", r)"
   ]
  },
  {
   "cell_type": "code",
   "execution_count": 120,
   "metadata": {},
   "outputs": [],
   "source": [
    "# make a deep copy of r from above example\n",
    "# using numpy, broadcast the mulitplication of the following two arrays to a 2D array using the newaxis parameter\n",
    "\n",
    "[0.71, 0.1, 0.24, 0.3]\n",
    "[0.8, 0.59, 1.0, 1.11]\n",
    "\n",
    "import copy \n",
    "\n",
    "spacecar2 = copy.deepcopy(spacecar)\n"
   ]
  }
 ],
 "metadata": {
  "kernelspec": {
   "display_name": "Python 3",
   "language": "python",
   "name": "python3"
  },
  "language_info": {
   "codemirror_mode": {
    "name": "ipython",
    "version": 3
   },
   "file_extension": ".py",
   "mimetype": "text/x-python",
   "name": "python",
   "nbconvert_exporter": "python",
   "pygments_lexer": "ipython3",
   "version": "3.11.1"
  },
  "orig_nbformat": 4,
  "vscode": {
   "interpreter": {
    "hash": "a72afa28c34049cb832911300c6a460f7f5dc07038f0ecb1d2a14cf1fe7e3a7d"
   }
  }
 },
 "nbformat": 4,
 "nbformat_minor": 2
}
