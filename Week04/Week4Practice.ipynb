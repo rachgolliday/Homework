{
 "cells": [
  {
   "cell_type": "code",
   "execution_count": 1,
   "metadata": {},
   "outputs": [
    {
     "name": "stdout",
     "output_type": "stream",
     "text": [
      "Current Date and Time ...  2023-02-17 14:38:21.001986\n"
     ]
    }
   ],
   "source": [
    "# using Date Time\n",
    "import datetime as dt\n",
    "\n",
    "# Get Current Date and Time\n",
    "a = dt.datetime.now()\n",
    "print(\"Current Date and Time ... \", a)"
   ]
  },
  {
   "cell_type": "code",
   "execution_count": 2,
   "metadata": {},
   "outputs": [
    {
     "name": "stdout",
     "output_type": "stream",
     "text": [
      "Just the date ...  2023-02-17 14:38:21.001986\n"
     ]
    }
   ],
   "source": [
    "# Get just the Date\n",
    "\n",
    "b = dt.date.today()\n",
    "print(\"Just the date ... \" , a)"
   ]
  },
  {
   "cell_type": "code",
   "execution_count": 4,
   "metadata": {},
   "outputs": [
    {
     "name": "stdout",
     "output_type": "stream",
     "text": [
      "Presenting a specific date ... 2020-05-17 00:00:00\n"
     ]
    }
   ],
   "source": [
    "# Create a date object to represent a specific date\n",
    "c = dt.datetime(2020, 5, 17)\n",
    "\n",
    "print(\"Presenting a specific date ...\", c)"
   ]
  },
  {
   "cell_type": "code",
   "execution_count": 8,
   "metadata": {},
   "outputs": [
    {
     "name": "stdout",
     "output_type": "stream",
     "text": [
      "Current year: 2023\n",
      "Current month: 2\n",
      "Current day: 13\n"
     ]
    }
   ],
   "source": [
    "# find parts of the date string\n",
    "from datetime import date\n",
    "today = date.today()\n",
    "\n",
    "# Print today's year, month and day\n",
    "print(\"Current year:\", today.year)\n",
    "print(\"Current month:\", today.month)\n",
    "print(\"Current day:\", today.day)"
   ]
  },
  {
   "cell_type": "code",
   "execution_count": 13,
   "metadata": {},
   "outputs": [
    {
     "name": "stdout",
     "output_type": "stream",
     "text": [
      "Day ...  Monday\n",
      "Month ...  February\n"
     ]
    }
   ],
   "source": [
    "# \"strftime()\" EXAMPLES\n",
    "import datetime\n",
    "example = datetime.datetime.now()\n",
    "\n",
    "print(\"Day ... \", example.strftime(\"%A\"))\n",
    "print(\"Month ... \", example.strftime(\"%b\"))"
   ]
  },
  {
   "cell_type": "code",
   "execution_count": 14,
   "metadata": {},
   "outputs": [
    {
     "name": "stdout",
     "output_type": "stream",
     "text": [
      "An exception occurred\n"
     ]
    }
   ],
   "source": [
    "# basic try and exception\n",
    "# here is an error\n",
    "# print(x)\n",
    "\n",
    "# This will cause an error as x is not defined\n",
    "try:\n",
    "    print(x)\n",
    "except:\n",
    "    print(\"An exception occurred\")"
   ]
  },
  {
   "cell_type": "code",
   "execution_count": 23,
   "metadata": {},
   "outputs": [
    {
     "name": "stdout",
     "output_type": "stream",
     "text": [
      "my_message\n"
     ]
    }
   ],
   "source": [
    "def my_message(): \n",
    "        (\"It rains\")\n",
    "        (\"next month\")\n",
    "print(\"my_message\")"
   ]
  },
  {
   "cell_type": "code",
   "execution_count": 24,
   "metadata": {},
   "outputs": [
    {
     "name": "stdout",
     "output_type": "stream",
     "text": [
      "Jerry Smith\n",
      "Amy Smith\n",
      "Chad Smith\n"
     ]
    }
   ],
   "source": [
    "# Example of a function call\n",
    "def familyName(fname):\n",
    "    print(fname + \" Smith\")\n",
    "\n",
    "familyName(\"Jerry\")\n",
    "familyName(\"Amy\")\n",
    "familyName(\"Chad\")"
   ]
  },
  {
   "cell_type": "code",
   "execution_count": 3,
   "metadata": {},
   "outputs": [
    {
     "name": "stdout",
     "output_type": "stream",
     "text": [
      "Name:  Johnny\n",
      "Age  12\n",
      "Name:  Mimi\n",
      "Age  50\n",
      "Name:  Mike\n",
      "Age  35\n"
     ]
    }
   ],
   "source": [
    "# Function definition is here\n",
    "def printInfo( name, age = 35 ): \n",
    "    # \"This code below prints all info passed into this function\"\n",
    "    print(\"Name: \", name)\n",
    "    print(\"Age \", age)\n",
    "\n",
    "# call the printInfo function with parameters in order\n",
    "printInfo(\"Johnny\", 12)\n",
    "\n",
    "# When using Keyword Arguments - order of parameters is not important\n",
    "printInfo(age=50, name=\"Mimi\")\n",
    "printInfo(name=\"Mike\")"
   ]
  },
  {
   "cell_type": "code",
   "execution_count": 29,
   "metadata": {},
   "outputs": [
    {
     "name": "stdout",
     "output_type": "stream",
     "text": [
      "The Total ... 30\n"
     ]
    }
   ],
   "source": [
    "# Function definition is here\n",
    "def summing(arg1, arg2):\n",
    "    # Add both the parameters and return them.\"\n",
    "    sumTotal = arg1 + arg2\n",
    "    # print(\"Inside the function : \", sumTotal)\n",
    "    return sumTotal\n",
    "\n",
    "# Now you can call sum function\n",
    "total = summing(10, 20)\n",
    "print(\"The Total ...\", total)"
   ]
  },
  {
   "cell_type": "code",
   "execution_count": 30,
   "metadata": {},
   "outputs": [
    {
     "name": "stdout",
     "output_type": "stream",
     "text": [
      "The Total ... 30\n"
     ]
    }
   ],
   "source": [
    "# Function definition is here\n",
    "total = summing(10, 20)\n",
    "print(\"The Total ...\", total)"
   ]
  },
  {
   "cell_type": "code",
   "execution_count": 31,
   "metadata": {},
   "outputs": [
    {
     "name": "stdout",
     "output_type": "stream",
     "text": [
      "Inside the function local sum :  30\n",
      "Inside the function global total :  0\n",
      "\n",
      "Outside the function global total :  30\n"
     ]
    },
    {
     "ename": "NameError",
     "evalue": "name 'innerSum' is not defined",
     "output_type": "error",
     "traceback": [
      "\u001b[1;31m---------------------------------------------------------------------------\u001b[0m",
      "\u001b[1;31mNameError\u001b[0m                                 Traceback (most recent call last)",
      "Cell \u001b[1;32mIn[31], line 16\u001b[0m\n\u001b[0;32m     13\u001b[0m total \u001b[39m=\u001b[39m (summary(\u001b[39m10\u001b[39m, \u001b[39m20\u001b[39m))\n\u001b[0;32m     15\u001b[0m \u001b[39mprint\u001b[39m(\u001b[39m\"\u001b[39m\u001b[39m\\n\u001b[39;00m\u001b[39mOutside the function global total : \u001b[39m\u001b[39m\"\u001b[39m, total)\n\u001b[1;32m---> 16\u001b[0m \u001b[39mprint\u001b[39m(\u001b[39m\"\u001b[39m\u001b[39mPrint outside the function - sum : \u001b[39m\u001b[39m\"\u001b[39m, innerSum)\n",
      "\u001b[1;31mNameError\u001b[0m: name 'innerSum' is not defined"
     ]
    }
   ],
   "source": [
    "# This is global variable.\n",
    "total = 0\n",
    "\n",
    "# Function definition is here\n",
    "def summary(arg1, arg2):\n",
    "    # Add both the parameters and return them.\"\n",
    "    innerSum = arg1 + arg2; # Here total is local variable.\n",
    "    print(\"Inside the function local sum : \", innerSum)\n",
    "    print(\"Inside the function global total : \", total)\n",
    "    return innerSum\n",
    "\n",
    "# Now you can call sum function\n",
    "total = (summary(10, 20))\n",
    "\n",
    "print(\"\\nOutside the function global total : \", total)\n",
    "print(\"Print outside the function - sum : \", innerSum)"
   ]
  },
  {
   "cell_type": "code",
   "execution_count": 35,
   "metadata": {},
   "outputs": [
    {
     "name": "stdout",
     "output_type": "stream",
     "text": [
      "15\n"
     ]
    }
   ],
   "source": [
    "x = lambda a : a + 10\n",
    "print(x(5))"
   ]
  },
  {
   "attachments": {},
   "cell_type": "markdown",
   "metadata": {},
   "source": [
    "Redoing Week 3 Homework in the block below:"
   ]
  },
  {
   "cell_type": "code",
   "execution_count": 40,
   "metadata": {},
   "outputs": [
    {
     "name": "stdout",
     "output_type": "stream",
     "text": [
      "iList ... ['green', 'silver', 1, 2.2, [2, 4, 6]]\n"
     ]
    }
   ],
   "source": [
    "# creating a list of five elements\n",
    "\n",
    "iList = [\"green\", \"silver\", 1, 2.2, [2,4,6]]\n",
    "print(\"iList ...\", inputList)\n",
    "\n"
   ]
  },
  {
   "attachments": {},
   "cell_type": "markdown",
   "metadata": {},
   "source": [
    "Starting at 4.2"
   ]
  },
  {
   "cell_type": "code",
   "execution_count": 3,
   "metadata": {},
   "outputs": [
    {
     "name": "stdout",
     "output_type": "stream",
     "text": [
      "Memory size of pyList ... 48000\n",
      "Memory size of NumPy Array ... 4000\n"
     ]
    }
   ],
   "source": [
    "#### JUST AN INTERESTING  TEST ####\n",
    "# how much memory is consumed by NumPy vs Lists\n",
    "import numpy as np\n",
    "import time, sys\n",
    "\n",
    "pyList = range(1000)    # allocate a list\n",
    "print(\"Memory size of pyList ...\", sys.getsizeof(pyList)*len(pyList))\n",
    "\n",
    "pyArray = np.arange(1000)   # allocate a NumPy array\n",
    "print(\"Memory size of NumPy Array ...\", pyArray.size*pyArray.itemsize)\n",
    "\n"
   ]
  },
  {
   "cell_type": "code",
   "execution_count": 6,
   "metadata": {},
   "outputs": [
    {
     "name": "stdout",
     "output_type": "stream",
     "text": [
      "List time in ms ... 615.7200336456299\n",
      "NumPy time in ms ... 86.01522445678711\n"
     ]
    }
   ],
   "source": [
    "#### ANOTHER INTERESTING  TEST ####\n",
    "# how fast is NumPy vs Lists\n",
    "import time, sys\n",
    "SIZE = 1000000\n",
    "\n",
    "# create 2 lists and 2 arrays of equal size \n",
    "L1 = range(SIZE)\n",
    "L2 = range(SIZE)\n",
    "\n",
    "A1 = np.arange(SIZE)\n",
    "A2 = np.arange(SIZE)\n",
    "\n",
    "# time to find the sum of lists\n",
    "start = time.time()\n",
    "result = [(x,y) for x,y in zip(L1,L2)]\n",
    "print(\"List time in ms ...\", (time.time()-start)*1000)\n",
    "\n",
    "# time to find the sum of numpy arrays\n",
    "start = time.time()\n",
    "result = A1+A2\n",
    "print(\"NumPy time in ms ...\", (time.time()-start)*1000)"
   ]
  },
  {
   "cell_type": "code",
   "execution_count": 12,
   "metadata": {},
   "outputs": [
    {
     "name": "stdout",
     "output_type": "stream",
     "text": [
      "school.ndim(6)\n",
      "The a_2d array ...\n",
      " [[ 0  1  2  3]\n",
      " [ 4  5  6  7]\n",
      " [ 8  9 10 11]]\n",
      "\n",
      "Number of dimension ... 2\n",
      "Shape of array ... (3, 4)\n",
      "\n",
      "number of rows ... 3\n",
      "number of columns ... 4\n"
     ]
    }
   ],
   "source": [
    "print(\"school.ndim(6)\")\n",
    "\n",
    "\n",
    "# Example of discovering the shape and size of a Numpy Array\n",
    "import numpy as np\n",
    "\n",
    "# build an array\n",
    "# `arange` creates a list of elements\n",
    "# reshape the list into a matrix / array\n",
    "a_2d = np.arange(12).reshape((3, 4))\n",
    "print(\"The a_2d array ...\\n\", a_2d)\n",
    "\n",
    "print(\"\\nNumber of dimension ...\", a_2d.ndim)\n",
    "# shape is the number of rows (1st axis), and  number of columns (2nd axis). \n",
    "print(\"Shape of array ...\", a_2d.shape)\n",
    "\n",
    "# get either the number of rows, or number of columns\n",
    "print(\"\\nnumber of rows ...\", a_2d.shape[0])\n",
    "print(\"number of columns ...\", a_2d.shape[1])"
   ]
  },
  {
   "cell_type": "code",
   "execution_count": 13,
   "metadata": {},
   "outputs": [
    {
     "name": "stdout",
     "output_type": "stream",
     "text": [
      "Array dimensions / axes ... 3\n",
      "Total number of elements ... 50\n",
      "Array shape ... (5, 2, 5)\n",
      "array_example length ... 5\n",
      "\n",
      "array_example ...\n",
      " [[[0 1 2 3 4]\n",
      "  [5 6 7 8 9]]\n",
      "\n",
      " [[0 1 2 3 4]\n",
      "  [5 6 7 8 9]]\n",
      "\n",
      " [[0 1 2 3 4]\n",
      "  [5 6 7 8 9]]\n",
      "\n",
      " [[0 1 2 3 4]\n",
      "  [5 6 7 8 9]]\n",
      "\n",
      " [[0 1 2 3 4]\n",
      "  [5 6 7 8 9]]]\n"
     ]
    }
   ],
   "source": [
    "# Another Example: - Discovering the shape and size of a 3D NumPy Array\n",
    "import numpy as np\n",
    "\n",
    "# this is a very stylized layout of an array\n",
    "# note the Tuple with a list of lists, with lists\n",
    "array_example = np.array(\n",
    "                            [  \n",
    "                                [ [0, 1, 2, 3, 4], [5, 6, 7, 8, 9] ],\n",
    "                                [ [0, 1, 2, 3, 4], [5, 6, 7, 8, 9] ],\n",
    "                                [ [0, 1, 2, 3, 4], [5, 6, 7, 8, 9] ],\n",
    "                                [ [0, 1, 2, 3, 4], [5, 6, 7, 8, 9] ],\n",
    "                                [ [0 ,1 ,2, 3, 4], [5, 6, 7, 8, 9] ] \n",
    "                            ]\n",
    "                        )\n",
    "\n",
    "# 3 dimensions/axes\n",
    "print(\"Array dimensions / axes ...\", array_example.ndim)\n",
    "\n",
    "# 50 total size/number of elements of array\n",
    "print(\"Total number of elements ...\", array_example.size)  \n",
    "\n",
    "# shape is the number of elements in each dimension = 5, 2, 5\n",
    "print(\"Array shape ...\", array_example.shape)\n",
    "\n",
    "# len() returns the size of the first dimension\n",
    "print(\"array_example length ...\", len(array_example))\n",
    "\n",
    "print(\"\\narray_example ...\\n\", array_example)"
   ]
  },
  {
   "cell_type": "code",
   "execution_count": 15,
   "metadata": {},
   "outputs": [
    {
     "name": "stdout",
     "output_type": "stream",
     "text": [
      "Array of 6 dimensions ... [[[[[[ 2  4  6  8 10]]]]]]\n",
      "\n",
      "shape of arrTest ...\n",
      " (1, 1, 1, 1, 1, 5)\n",
      "\n",
      "length of arrTest ... 1\n"
     ]
    }
   ],
   "source": [
    "# Creating an array of 6 dimensions using ndim\n",
    "# with a vector containing values [2,4,6,8,10]\n",
    "# and verifying the shape\n",
    "import numpy as np\n",
    "\n",
    "# creating an array of 6 dimension using ndim\n",
    "arrTest = np.array([2, 4, 6, 8, 10], ndmin=6)\n",
    "print(\"Array of 6 dimensions ...\", arrTest)\n",
    "\n",
    "# verifying the shape\n",
    "print('\\nshape of arrTest ...\\n', arrTest.shape)\n",
    "\n",
    "# .len() returns the size of the first dimension\n",
    "print(\"\\nlength of arrTest ...\", len(arrTest))\n"
   ]
  },
  {
   "cell_type": "code",
   "execution_count": 36,
   "metadata": {},
   "outputs": [
    {
     "name": "stdout",
     "output_type": "stream",
     "text": [
      "a1 ...\n",
      " [1 2 3 4 5 6]\n",
      "a2 ...\n",
      " [[ 1  2  3  4]\n",
      " [ 5  6  7  8]\n",
      " [ 9 10 11 12]]\n"
     ]
    }
   ],
   "source": [
    "# creating Numpy Arrays -- from a list with SAME DATA TYPES\n",
    "import numpy as np\n",
    "\n",
    "a1 = np.array([1, 2, 3, 4, 5, 6])\n",
    "print(\"a1 ...\\n\", a1)\n",
    "\n",
    "a2 = np.array([[1, 2, 3, 4], [5, 6, 7, 8], [9, 10, 11, 12]])\n",
    "print(\"a2 ...\\n\", a2)"
   ]
  },
  {
   "cell_type": "code",
   "execution_count": 17,
   "metadata": {},
   "outputs": [
    {
     "name": "stdout",
     "output_type": "stream",
     "text": [
      "b ... [0. 0. 0. 0.]\n",
      "c ... [1. 1. 1.]\n"
     ]
    }
   ],
   "source": [
    "# creating arrays filled with ONEs or ZEROs\n",
    "import numpy as np\n",
    "\n",
    "# build an array with 4x zeros\n",
    "b = np.zeros(4)\n",
    "print(\"b ...\", b)\n",
    "\n",
    "# build an array with 3x ones\n",
    "c = np.ones(3)\n",
    "print(\"c ...\", c)"
   ]
  },
  {
   "cell_type": "code",
   "execution_count": 18,
   "metadata": {},
   "outputs": [
    {
     "name": "stdout",
     "output_type": "stream",
     "text": [
      "d ... [1. 1. 1.]\n"
     ]
    }
   ],
   "source": [
    "# create an empty array\n",
    "import numpy as np\n",
    "\n",
    "d = np.empty(3)\n",
    "print(\"d ...\", d)"
   ]
  },
  {
   "cell_type": "code",
   "execution_count": 19,
   "metadata": {},
   "outputs": [
    {
     "name": "stdout",
     "output_type": "stream",
     "text": [
      "e = [0 1 2 3 4]\n"
     ]
    }
   ],
   "source": [
    "# create an array from `a range`\n",
    "import numpy as np\n",
    "\n",
    "# create an array with `a range` of numbers from 0 upto, but not including 5\n",
    "e = np.arange(5)\n",
    "print(\"e =\", e)"
   ]
  },
  {
   "cell_type": "code",
   "execution_count": 21,
   "metadata": {},
   "outputs": [
    {
     "name": "stdout",
     "output_type": "stream",
     "text": [
      "f ... [2 4 6 8]\n"
     ]
    }
   ],
   "source": [
    "# Contains `a range`` of evenly spaced intervals\n",
    "# between 1st num, and 2nd num, in steps of 3rd num\n",
    "import numpy as np\n",
    "\n",
    "# Create `a range` of evenly spaced intervals\n",
    "# between 1st num, and 2nd num, in steps of 3rd num\n",
    "f = np.arange(2, 9, 2)\n",
    "print(\"f ...\",  f)"
   ]
  },
  {
   "cell_type": "code",
   "execution_count": 37,
   "metadata": {},
   "outputs": [
    {
     "name": "stdout",
     "output_type": "stream",
     "text": [
      "newShape1 ...\n",
      " [[1 2 3]\n",
      " [4 5 6]]\n",
      "newShape1 ... [1 2 3 4 5 6]\n",
      "\n",
      "newShape3 ...\n",
      " [[[ 1  2]\n",
      "  [ 3  4]]\n",
      "\n",
      " [[ 5  6]\n",
      "  [ 7  8]]\n",
      "\n",
      " [[ 9 10]\n",
      "  [11 12]]]\n"
     ]
    }
   ],
   "source": [
    "# reshaping a NumPy \n",
    "import numpy as np\n",
    "\n",
    "aArray = np.array([[1,2,3], [4,5,6]])\n",
    "bArray = np.array([1, 2, 3, 4, 5, 6, 7, 8, 9, 10, 11, 12])\n",
    "print(\"newShape1 ...\\n\", aArray)\n",
    "\n",
    "newShape1 = np.reshape(aArray, 6)\n",
    "print(\"newShape1 ...\", newShape1)\n",
    "\n",
    "newShape2 = bArray.reshape(3, 2, 2)\n",
    "print(\"\\nnewShape3 ...\\n\", newShape2)"
   ]
  },
  {
   "cell_type": "code",
   "execution_count": 25,
   "metadata": {},
   "outputs": [
    {
     "name": "stdout",
     "output_type": "stream",
     "text": [
      "newShape1 ...\n",
      " [[ 1  2  3  4  5  6  7  8]\n",
      " [11 12 23 34 45 56 67 78]]\n",
      "\n",
      "newShape3 ...\n",
      " [[ 1  2  3  4]\n",
      " [ 5  6  7  8]\n",
      " [11 12 23 34]\n",
      " [45 56 67 78]]\n"
     ]
    }
   ],
   "source": [
    "# reshaping using an \"Unknown\" dimension\n",
    "import numpy as np\n",
    "\n",
    "aArray = np.array([[1,2,3,4,5,6,7,8], [11,12,23,34,45,56,67,78]])\n",
    "print(\"newShape1 ...\\n\", aArray)\n",
    "\n",
    "newShape3 = aArray.reshape(4,-1)\n",
    "print(\"\\nnewShape3 ...\\n\", newShape3)"
   ]
  },
  {
   "cell_type": "code",
   "execution_count": 46,
   "metadata": {},
   "outputs": [
    {
     "name": "stdout",
     "output_type": "stream",
     "text": [
      "newShape1 ...\n",
      " [[ 1  2  3  4  5  6  7  8]\n",
      " [11 12 23 34 45 56 67 78]]\n",
      "\n",
      "newShape3 ...\n",
      " [[[ 1  2  3  4]\n",
      "  [ 5  6  7  8]]\n",
      "\n",
      " [[11 12 23 34]\n",
      "  [45 56 67 78]]]\n"
     ]
    }
   ],
   "source": [
    "# reshaping using an \"Unknown\" dimension\n",
    "import numpy as np\n",
    "\n",
    "aArray = np.array([[1,2,3,4,5,6,7,8], [11,12,23,34,45,56,67,78]])\n",
    "print(\"newShape1 ...\\n\", aArray)\n",
    "\n",
    "newShape3 = aArray.reshape(2,2,-1)\n",
    "print(\"\\nnewShape3 ...\\n\", newShape3)"
   ]
  },
  {
   "attachments": {},
   "cell_type": "markdown",
   "metadata": {},
   "source": [
    "4.3 Notes below:"
   ]
  },
  {
   "cell_type": "code",
   "execution_count": 5,
   "metadata": {},
   "outputs": [
    {
     "name": "stdout",
     "output_type": "stream",
     "text": [
      "arr ...\n",
      " [[ 0.  1.  2.  3.]\n",
      " [ 4.  5.  6.  7.]\n",
      " [ 8.  9. 10. 11.]]\n",
      "\n",
      "arr1 ...\n",
      " [ 6 12 15 18]\n",
      "\n",
      "Addition ...\n",
      " [[ 6. 13. 17. 21.]\n",
      " [10. 17. 21. 25.]\n",
      " [14. 21. 25. 29.]]\n",
      "\n",
      "Subtraction ...\n",
      " [[ -6. -11. -13. -15.]\n",
      " [ -2.  -7.  -9. -11.]\n",
      " [  2.  -3.  -5.  -7.]]\n",
      "\n",
      "Multiplication ...\n",
      " [[  0.  12.  30.  54.]\n",
      " [ 24.  60.  90. 126.]\n",
      " [ 48. 108. 150. 198.]]\n",
      "\n",
      "Division ...\n",
      " [[0.         0.08333333 0.13333333 0.16666667]\n",
      " [0.66666667 0.41666667 0.4        0.38888889]\n",
      " [1.33333333 0.75       0.66666667 0.61111111]]\n",
      "\n",
      "Power 3 ...\n",
      " [125  27 216 729   8  64]\n",
      "\n",
      "Power of arrays ...\n",
      " [   4   64 7776  625    3]\n",
      "\n",
      "Reciprocal1 ...\n",
      " [0.02       0.74626866 0.33333333 1.         0.04      ]\n",
      "\n",
      "Reciprocal2 ...\n",
      " [0]\n",
      "\n",
      "Mod function ...\n",
      " [3 0 1]\n",
      "\n",
      "Remainder ...\n",
      " [3 0 1]\n"
     ]
    }
   ],
   "source": [
    "# basic array Arithmetic operations \n",
    "import numpy as np\n",
    "\n",
    "# Initializing the arrays\n",
    "arr = np.arange(12, dtype = np.float_).reshape(3, 4) \n",
    "arr1 = np.array([6, 12, 15, 18]) \n",
    "print(\"arr ...\\n\", arr)\n",
    "print(\"\\narr1 ...\\n\", arr1)\n",
    "\n",
    "\n",
    "# Example 1: Adding the two arrays\n",
    "arr2 = np.add(arr, arr1)\n",
    "print(\"\\nAddition ...\\n\", arr2)\n",
    "\n",
    "# Example 2: Subtracting the two arrays\n",
    "arr2 = np.subtract(arr, arr1)\n",
    "print(\"\\nSubtraction ...\\n\", arr2)\n",
    "\n",
    "# Example 3: Multiplying the two arrays\n",
    "arr2 = np.multiply(arr, arr1)\n",
    "print(\"\\nMultiplication ...\\n\", arr2)\n",
    "\n",
    "# Example 4: Dividing the two arrays\n",
    "arr2 = np.divide(arr, arr1)\n",
    "print(\"\\nDivision ...\\n\", arr2)\n",
    "\n",
    "# Example 5: Use numpy.power() \n",
    "# to calculating exponents of an array of numbers\n",
    "arr = np.array([5, 3, 6, 9, 2, 4]) \n",
    "arr2 = np.power(arr,3)\n",
    "print(\"\\nPower 3 ...\\n\", arr2)\n",
    "\n",
    "# Example 6: Use numpy.power() with two arrays\n",
    "arr = [2, 4, 6, 5, 3]\n",
    "arr1 = [2, 3, 5, 4, 1]\n",
    "arr2 = np.power(arr,arr1)\n",
    "print(\"\\nPower of arrays ...\\n\", arr2)\n",
    "\n",
    "# Example 7: Use numpy.reciprocal() function\n",
    "arr = np.array([50, 1.34, 3, 1, 25]) \n",
    "arr2 = np.reciprocal(arr)\n",
    "print(\"\\nReciprocal1 ...\\n\", arr2)\n",
    "\n",
    "# Example 8: Use reciprocal function\n",
    "arr = np.array([75], dtype = int) \n",
    "arr2 = np.reciprocal(arr) \n",
    "print(\"\\nReciprocal2 ...\\n\", arr2)\n",
    "\n",
    "# Example 9: Use numpy.mod() function\n",
    "arr = np.array([7,16, 25]) \n",
    "arr1 = np.array([4,8,6]) \n",
    "arr2 = np.mod(arr,arr1) \n",
    "print(\"\\nMod function ...\\n\", arr2)\n",
    "\n",
    "# Example 10: Use numpy.remainder() function\n",
    "arr = np.array([7,16, 25]) \n",
    "arr1 = np.array([4,8,6]) \n",
    "arr2 = np.remainder(arr,arr1) \n",
    "print(\"\\nRemainder ...\\n\", arr2)\n"
   ]
  },
  {
   "cell_type": "code",
   "execution_count": 11,
   "metadata": {},
   "outputs": [
    {
     "name": "stdout",
     "output_type": "stream",
     "text": [
      "\n",
      "data2 original array ... [[ 1  2  3  4]\n",
      " [ 5  6  7  8]\n",
      " [ 9 10 11 12]]\n",
      "data2 elements < 5 ... [1 2 3 4]\n",
      "data2 elements >= 5 ... [ 5  6  7  8  9 10 11 12]\n",
      "data2 elements >= 5 ... [ 5  6  7  8  9 10 11 12]\n",
      "data2 elements divisible_by_2 ... [ 2  4  6  8 10 12]\n"
     ]
    }
   ],
   "source": [
    "# comparison operations\n",
    "import numpy as np\n",
    "\n",
    "data2 = np.array([[1, 2, 3, 4], [5, 6, 7, 8], [9, 10, 11, 12]])\n",
    "print(\"\\ndata2 original array ...\", data2)\n",
    "# find all elements < 5\n",
    "print(\"data2 elements < 5 ...\", data2[data2 < 5])\n",
    "\n",
    "# find all elements >= 5\n",
    "five_up = data2 >= 5\n",
    "print(\"data2 elements >= 5 ...\", data2[five_up])\n",
    "\n",
    "# or\n",
    "\n",
    "# find all elements >= 5\n",
    "five_up = data2 >= 5\n",
    "print(\"data2 elements >= 5 ...\", data2[data2 >= 5])\n",
    "\n",
    "# using modulo, find all elements divisible by 2\n",
    "divisible_by_2 = data2[data2 % 2 == 0]\n",
    "print(\"data2 elements divisible_by_2 ...\", divisible_by_2)\n",
    "\n"
   ]
  },
  {
   "cell_type": "code",
   "execution_count": 12,
   "metadata": {},
   "outputs": [
    {
     "name": "stdout",
     "output_type": "stream",
     "text": [
      "[2. 4. 6.]\n"
     ]
    }
   ],
   "source": [
    "# simplest broadcasting  - an array and a scalar value are combined\n",
    "from numpy import array\n",
    "\n",
    "a = array([1.0,2.0,3.0])\n",
    "b = 2.0     # size of 1\n",
    "\n",
    "print(a * b)"
   ]
  },
  {
   "cell_type": "code",
   "execution_count": 13,
   "metadata": {},
   "outputs": [
    {
     "name": "stdout",
     "output_type": "stream",
     "text": [
      "[[ 1.  2.  3.]\n",
      " [11. 12. 13.]\n",
      " [21. 22. 23.]\n",
      " [31. 32. 33.]]\n"
     ]
    }
   ],
   "source": [
    "# add a 1-D array broadcast to a 2-D array\n",
    "from numpy import array\n",
    "\n",
    "arr2D = array([[ 0.0,  0.0,  0.0],\n",
    "            [10.0, 10.0, 10.0],\n",
    "            [20.0, 20.0, 20.0],\n",
    "            [30.0, 30.0, 30.0]])\n",
    "\n",
    "arr1D = array([1.0, 2.0, 3.0])\n",
    "\n",
    "print(arr2D + arr1D)"
   ]
  },
  {
   "cell_type": "code",
   "execution_count": 14,
   "metadata": {},
   "outputs": [
    {
     "name": "stdout",
     "output_type": "stream",
     "text": [
      "The sum of aa and bb ...\n",
      "\n",
      "[[ 1.  2.  3.]\n",
      " [11. 12. 13.]\n",
      " [21. 22. 23.]\n",
      " [31. 32. 33.]]\n"
     ]
    }
   ],
   "source": [
    "# transforming arrays for Broadcasting with`newaxis`\n",
    "from numpy import array, newaxis\n",
    "\n",
    "aa = array([0.0, 10.0, 20.0, 30.0])\n",
    "bb = array([1.0, 2.0, 3.0])\n",
    "\n",
    "print(\"The sum of aa and bb ...\\n\")\n",
    "print(aa[:,newaxis] + bb)"
   ]
  },
  {
   "cell_type": "code",
   "execution_count": 15,
   "metadata": {},
   "outputs": [
    {
     "name": "stdout",
     "output_type": "stream",
     "text": [
      "arrays x * y ...\n",
      " [[-0.  -0.2 -0.6 -1.2]\n",
      " [-0.4 -1.  -1.8 -2.8]\n",
      " [-0.8 -1.8 -3.  -4.4]]\n"
     ]
    }
   ],
   "source": [
    "## another example of Broadcasting arrays\n",
    "import numpy as np\n",
    "\n",
    "# a (3, 4)-shaped array\n",
    "x = np.array(\n",
    "        [[-0.0, -0.1, -0.2, -0.3], \n",
    "        [-0.4, -0.5, -0.6, -0.7], \n",
    "        [-0.8, -0.9, -1.0, -1.1]]\n",
    ")\n",
    "\n",
    "# a (4,)-shaped array\n",
    "y = np.array([1, 2, 3, 4])\n",
    "\n",
    "# multiplying a shape-(4,) array --> y\n",
    "# with a shape-(3, 4) array --> x\n",
    "# `y` is multiplied by each row of `x`\n",
    "\n",
    "print(\"arrays x * y ...\\n\", x * y)"
   ]
  },
  {
   "cell_type": "code",
   "execution_count": 16,
   "metadata": {},
   "outputs": [
    {
     "name": "stdout",
     "output_type": "stream",
     "text": [
      "a =  [[0, 1, 2, 3], [4, 5, 6, 7]]\n",
      "b =  [[10, 11, 12, 13], [14, 15, 16, 17]]\n",
      "c =  [[20, 21, 22, 23], [24, 25, 26, 27]]\n",
      "The data type of c ... <class 'list'>\n",
      "\n",
      "Further unpacking a ...\n",
      "a0 =  [0, 1, 2, 3]\n",
      "a1 =  [4, 5, 6, 7]\n",
      "The data type of a1 ... <class 'list'>\n"
     ]
    }
   ],
   "source": [
    "# Assigning variables using multi assignment\n",
    "tt = ([ [ [0, 1, 2, 3], [4, 5, 6, 7] ],\n",
    "        [ [10, 11, 12, 13], [14, 15, 16, 17] ],\n",
    "        [[20, 21, 22, 23], [24, 25, 26, 27] ] ])\n",
    "\n",
    "a, b, c = tt\n",
    "\n",
    "print(\"a = \", a)\n",
    "print(\"b = \", b)\n",
    "print(\"c = \", c)\n",
    "print(\"The data type of c ...\", type(c))\n",
    "\n",
    "# further unpack the \"a\" variable\n",
    "a0, a1 = a\n",
    "print(\"\\nFurther unpacking a ...\")\n",
    "print(\"a0 = \", a0)\n",
    "print(\"a1 = \", a1)\n",
    "print(\"The data type of a1 ...\", type(a1))"
   ]
  },
  {
   "cell_type": "code",
   "execution_count": 17,
   "metadata": {},
   "outputs": [
    {
     "name": "stdout",
     "output_type": "stream",
     "text": [
      "1st group ... 0 1 2 3\n",
      "2nd group ... 34 35 36 37\n",
      "last bunch ... 40 41 42 43 54 55 56 57\n",
      "\n",
      "The variables aa, bb, to hh ...\n",
      "0 1 2 3 14 15 16 17\n",
      "\n",
      "The collective variable zz ...\n",
      "[[[20, 21, 22, 23], [34, 35, 36, 37]], [[40, 41, 42, 43], [54, 55, 56, 57]]]\n"
     ]
    }
   ],
   "source": [
    "# Unpacking a series of nested elements\n",
    "example = ([ [ [0, 1, 2, 3], [14, 15, 16, 17] ],\n",
    "        [ [20, 21, 22, 23], [34, 35, 36, 37] ],\n",
    "        [[40 ,41 ,42, 43], [54, 55, 56, 57] ] ])\n",
    "\n",
    "[[[a,b,c,d], [e,f,g,h]],\n",
    "    [[i,j,k,l],[m,n,o,p]],\n",
    "    [[q,r,s,t],[u,v,w,x]]] = example\n",
    "\n",
    "print(\"1st group ...\", a, b, c, d)\n",
    "print(\"2nd group ...\", m, n, o, p)\n",
    "print(\"last bunch ...\", q, r, s, t, u, v, w, x)\n",
    "\n",
    "# else using the overflow astrix \n",
    "[[[aa,bb,cc,dd], [ee,ff,gg,hh]], *zz] = example\n",
    "\n",
    "print(\"\\nThe variables aa, bb, to hh ...\")\n",
    "print(aa,bb,cc,dd,ee,ff,gg, hh)\n",
    "\n",
    "print(\"\\nThe collective variable zz ...\")\n",
    "print(zz)"
   ]
  },
  {
   "cell_type": "code",
   "execution_count": 2,
   "metadata": {},
   "outputs": [
    {
     "name": "stdout",
     "output_type": "stream",
     "text": [
      "Print arrCombo ... [1 2 3 4 5 6 7 8]\n",
      "\n",
      "And arrayC ...\n",
      " [[ 8  7]\n",
      " [ 9 10]\n",
      " [12 11]\n",
      " [ 2  1]\n",
      " [ 3  4]\n",
      " [ 5  6]]\n"
     ]
    }
   ],
   "source": [
    "# NumPy concatenation\n",
    "import numpy as np\n",
    "\n",
    "arrayA= np.array([1, 2, 3, 4])\n",
    "arrayB = np.array([5, 6, 7, 8])\n",
    "\n",
    "arrCombo = np.concatenate((arrayA, arrayB))\n",
    "print(\"Print arrCombo ...\", arrCombo)\n",
    "\n",
    "\n",
    "# More Concatenation\n",
    "arrayX = np.array([[2, 1], [3, 4]])\n",
    "arrayY = np.array([[5, 6]])\n",
    "arrayZ = np.array([[8, 7], [9, 10], [12, 11]])\n",
    "\n",
    "arrayC = np.concatenate((arrayZ, arrayX, arrayY), axis=0)\n",
    "print(\"\\nAnd arrayC ...\\n\", arrayC)\n",
    "\n",
    "arrayCSsort = np.sort(arrayC)\n",
    "# print (\"\\narrayC sorted ...\\n\", arrayCSsort)\n",
    "\n",
    "newShape = arrayCSsort.reshape(2, 2, 3)\n",
    "# print (\"\\nNew shape ...\\n\", newShape)"
   ]
  },
  {
   "cell_type": "code",
   "execution_count": 25,
   "metadata": {},
   "outputs": [
    {
     "name": "stdout",
     "output_type": "stream",
     "text": [
      "arr1 ... [1 2 3 4 5 6 7 8]\n",
      "arr2 ...\n",
      " [[2 3 4]\n",
      " [0 1 5]]\n",
      "arr3 ... ['apple' 'banana' 'cherry']\n",
      "arr4 ... [False  True  True]\n",
      "\n",
      "arr5 ...\n",
      " [[101 112 133 224]\n",
      " [ 76 148 207 235]\n",
      " [110 174 319 338]]\n",
      "\n",
      "arr6 ...\n",
      " [[[10 11 13 22]\n",
      "  [ 7 14 20 23]\n",
      "  [11 17 31 33]]\n",
      "\n",
      " [[11 12 13 23]\n",
      "  [ 7 12 14 23]\n",
      "  [17 31 33 34]]\n",
      "\n",
      " [[ 6 10 13 22]\n",
      "  [ 7 14 20 34]\n",
      "  [ 7 31 33 34]]]\n"
     ]
    }
   ],
   "source": [
    "# Sorting NumPy arrays ...\n",
    "import numpy as np\n",
    "\n",
    "# sorting a 1-D array\n",
    "arr1 = np.array([2, 1, 5, 3, 7, 4, 6, 8])\n",
    "arr1sort = np.sort(arr1)\n",
    "print(\"arr1 ...\", arr1sort)\n",
    "\n",
    "# Sorting a 2-D array:\n",
    "# on a 2-D array both tuples will be sorted\n",
    "arr2 = np.array([[3, 2, 4], [5, 0, 1]])\n",
    "print(\"arr2 ...\\n\", np.sort(arr2))\n",
    "\n",
    "# Sorting an array of strings alphabetically:\n",
    "arr3 = np.array(['banana', 'cherry', 'apple'])\n",
    "print(\"arr3 ...\", np.sort(arr3))\n",
    "\n",
    "# Sorting a boolean array:\n",
    "arr4 = np.array([True, False, True])\n",
    "print(\"arr4 ...\", np.sort(arr4))\n",
    "\n",
    "# sorting a 2D array\n",
    "arr5 = np.array([[101, 112, 133, 224],\n",
    "                [235, 76, 207, 148],\n",
    "                [319, 110, 338, 174]])\n",
    "print(\"\\narr5 ...\\n\", np.sort(arr5, axis= 1))\n",
    "\n",
    "# sorting a 3D array\n",
    "arr6 = np.array([[[10, 11, 13, 22], [23, 7, 20, 14], [31, 11, 33, 17]],\n",
    "                [[12, 11, 13, 23], [23, 7, 12, 14], [31, 34, 33, 17]],\n",
    "                [[10, 6, 13, 22], [34, 7, 20, 14], [31, 34, 33, 7]]])\n",
    "print(\"\\narr6 ...\\n\", np.sort(arr6, axis= 2))\n"
   ]
  },
  {
   "cell_type": "code",
   "execution_count": null,
   "metadata": {},
   "outputs": [],
   "source": [
    "# Sorting NumPy arrays ...\n",
    "import numpy as np\n",
    "\n",
    "# sorting a 1-D array\n",
    "arr1 = np.array([2, 1, 5, 3, 7, 4, 6, 8])\n",
    "arr1sort = np.sort(arr1)\n",
    "print(\"arr1 ...\", arr1sort)\n",
    "\n",
    "# Sorting a 2-D array:\n",
    "# on a 2-D array both tuples will be sorted\n",
    "arr2 = np.array([[3, 2, 4], [5, 0, 1]])\n",
    "print(\"arr2 ...\\n\", np.sort(arr2))\n",
    "\n",
    "# Sorting an array of strings alphabetically:\n",
    "arr3 = np.array(['banana', 'cherry', 'apple'])\n",
    "print(\"arr3 ...\", np.sort(arr3))\n",
    "\n",
    "# Sorting a boolean array:\n",
    "arr4 = np.array([True, False, True])\n",
    "print(\"arr4 ...\", np.sort(arr4))\n",
    "\n",
    "# sorting a 2D array\n",
    "arr5 = np.array([[101, 112, 133, 224],\n",
    "                [235, 76, 207, 148],\n",
    "                [319, 110, 338, 174]])\n",
    "print(\"\\narr5 ...\\n\", np.sort(arr5, axis= 1))\n",
    "\n",
    "# sorting a 3D array\n",
    "arr6 = np.array([[[10, 11, 13, 22], [23, 7, 20, 14], [31, 11, 33, 17]],\n",
    "                [[12, 11, 13, 23], [23, 7, 12, 14], [31, 34, 33, 17]],\n",
    "                [[10, 6, 13, 22], [34, 7, 20, 14], [31, 34, 33, 7]]])\n",
    "print(\"\\narr6 ...\\n\", np.sort(arr6, axis= 2))\n"
   ]
  },
  {
   "cell_type": "code",
   "execution_count": 26,
   "metadata": {},
   "outputs": [
    {
     "name": "stdout",
     "output_type": "stream",
     "text": [
      "[1 0 3 2 4]\n"
     ]
    }
   ],
   "source": [
    "# `argsort` returns the Index Numbers of elements in order\n",
    "import numpy as np\n",
    "\n",
    "xx = np.array([2, 1, 4, 3, 5])\n",
    "xx1sorted = np.argsort(xx)\n",
    "print(xx1sorted)"
   ]
  },
  {
   "cell_type": "code",
   "execution_count": 27,
   "metadata": {},
   "outputs": [
    {
     "name": "stdout",
     "output_type": "stream",
     "text": [
      "1st group ... 0 1 2 3\n",
      "2nd group ... 34 35 36 37\n",
      "last bunch ... 40 41 42 43 54 55 56 57\n",
      "\n",
      "The variables aa, bb, to hh ...\n",
      "0 1 2 3 14 15 16 17\n",
      "\n",
      "The collective variable zz ...\n",
      "[[[20, 21, 22, 23], [34, 35, 36, 37]], [[40, 41, 42, 43], [54, 55, 56, 57]]]\n"
     ]
    }
   ],
   "source": [
    "# Unpacking a series of nested elements\n",
    "example = ([ [ [0, 1, 2, 3], [14, 15, 16, 17] ],\n",
    "        [ [20, 21, 22, 23], [34, 35, 36, 37] ],\n",
    "        [[40 ,41 ,42, 43], [54, 55, 56, 57] ] ])\n",
    "\n",
    "[[[a,b,c,d], [e,f,g,h]],\n",
    "    [[i,j,k,l],[m,n,o,p]],\n",
    "    [[q,r,s,t],[u,v,w,x]]] = example\n",
    "\n",
    "print(\"1st group ...\", a, b, c, d)\n",
    "print(\"2nd group ...\", m, n, o, p)\n",
    "print(\"last bunch ...\", q, r, s, t, u, v, w, x)\n",
    "\n",
    "# else using the overflow astrix \n",
    "[[[aa,bb,cc,dd], [ee,ff,gg,hh]], *zz] = example\n",
    "\n",
    "print(\"\\nThe variables aa, bb, to hh ...\")\n",
    "print(aa,bb,cc,dd,ee,ff,gg, hh)\n",
    "\n",
    "print(\"\\nThe collective variable zz ...\")\n",
    "print(zz)\n",
    "\n",
    "\n",
    "# When you get to the 26th alphabet on converting elements, how do you keep counting so you don't have an overflow? "
   ]
  }
 ],
 "metadata": {
  "kernelspec": {
   "display_name": "Python 3",
   "language": "python",
   "name": "python3"
  },
  "language_info": {
   "codemirror_mode": {
    "name": "ipython",
    "version": 3
   },
   "file_extension": ".py",
   "mimetype": "text/x-python",
   "name": "python",
   "nbconvert_exporter": "python",
   "pygments_lexer": "ipython3",
   "version": "3.11.1"
  },
  "orig_nbformat": 4,
  "vscode": {
   "interpreter": {
    "hash": "a72afa28c34049cb832911300c6a460f7f5dc07038f0ecb1d2a14cf1fe7e3a7d"
   }
  }
 },
 "nbformat": 4,
 "nbformat_minor": 2
}
