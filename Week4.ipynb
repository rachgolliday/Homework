{
 "cells": [
  {
   "cell_type": "code",
   "execution_count": null,
   "metadata": {},
   "outputs": [],
   "source": [
    "# Thursday Review"
   ]
  },
  {
   "attachments": {},
   "cell_type": "markdown",
   "metadata": {},
   "source": [
    "# A function is a block of code when only rund when it is called\n",
    "\n",
    "def funtion_basics (string, times):\n",
    "    \"\"\"\"\n",
    "\n",
    "Functions print a specificed string specified number of times.\n",
    "\n",
    "The first argument is the string you want printed, the second argument is the number of times tou want the string printed.\n",
    "\n",
    "Paraemeters (both requried):\n",
    "string(str): The String to be printed\n",
    "times(int): the number of times the string should be printed\n",
    "\n",
    "Returns:\n",
    "No return ValueError\n",
    "\"\"\"\"\n",
    "for i in range(times):\n",
    "    print(string)"
   ]
  },
  {
   "attachments": {},
   "cell_type": "markdown",
   "metadata": {},
   "source": [
    "# Global and Local"
   ]
  },
  {
   "cell_type": "code",
   "execution_count": 1,
   "metadata": {},
   "outputs": [
    {
     "name": "stdout",
     "output_type": "stream",
     "text": [
      "Inside the function local sum :  30\n",
      "Inside the function global total :  0\n",
      "\n",
      "Outside the function global total :  30\n"
     ]
    },
    {
     "ename": "NameError",
     "evalue": "name 'innerSum' is not defined",
     "output_type": "error",
     "traceback": [
      "\u001b[1;31m---------------------------------------------------------------------------\u001b[0m",
      "\u001b[1;31mNameError\u001b[0m                                 Traceback (most recent call last)",
      "Cell \u001b[1;32mIn[1], line 16\u001b[0m\n\u001b[0;32m     13\u001b[0m total \u001b[39m=\u001b[39m (summary(\u001b[39m10\u001b[39m, \u001b[39m20\u001b[39m))\n\u001b[0;32m     15\u001b[0m \u001b[39mprint\u001b[39m(\u001b[39m\"\u001b[39m\u001b[39m\\n\u001b[39;00m\u001b[39mOutside the function global total : \u001b[39m\u001b[39m\"\u001b[39m, total)\n\u001b[1;32m---> 16\u001b[0m \u001b[39mprint\u001b[39m(\u001b[39m\"\u001b[39m\u001b[39mPrint outside the function - sum : \u001b[39m\u001b[39m\"\u001b[39m, innerSum)\n",
      "\u001b[1;31mNameError\u001b[0m: name 'innerSum' is not defined"
     ]
    }
   ],
   "source": [
    "# This is global variable.\n",
    "total = 0\n",
    "\n",
    "# Function definition is here\n",
    "def summary(arg1, arg2):\n",
    "    # Add both the parameters and return them.\"\n",
    "    innerSum = arg1 + arg2; # Here total is local variable.\n",
    "    print(\"Inside the function local sum : \", innerSum)\n",
    "    print(\"Inside the function global total : \", total)\n",
    "    return innerSum\n",
    "\n",
    "# Now you can call sum function\n",
    "total = (summary(10, 20))\n",
    "\n",
    "print(\"\\nOutside the function global total : \", total)\n",
    "print(\"Print outside the function - sum : \", innerSum)\n"
   ]
  },
  {
   "cell_type": "code",
   "execution_count": 8,
   "metadata": {},
   "outputs": [],
   "source": [
    "def length(some_list):\n",
    "\n",
    "    count=0\n",
    "    for element in some_list:\n",
    "        count += 1\n",
    "\n",
    "    print(\"The length of the list is\", count)"
   ]
  },
  {
   "cell_type": "code",
   "execution_count": 9,
   "metadata": {},
   "outputs": [
    {
     "name": "stdout",
     "output_type": "stream",
     "text": [
      "The length of the list is 8\n"
     ]
    }
   ],
   "source": [
    "num_list = [1, 2, 3, 4, 5, 6, 7, 8]\n",
    "length(num_list)"
   ]
  },
  {
   "cell_type": "code",
   "execution_count": 12,
   "metadata": {},
   "outputs": [
    {
     "name": "stdout",
     "output_type": "stream",
     "text": [
      "['dog', 'cat', 'bird', 'tiger', 'bear']\n"
     ]
    }
   ],
   "source": [
    "animal_list = [\"dog\", \"cat\", \"bird\", \"tiger\", \"bear\"]\n",
    "print(animal_list)"
   ]
  },
  {
   "cell_type": "code",
   "execution_count": 11,
   "metadata": {},
   "outputs": [
    {
     "name": "stdout",
     "output_type": "stream",
     "text": [
      "[1.1, 1.2, 1.3, 1.4, 1.5]\n"
     ]
    }
   ],
   "source": [
    "float_list = [1.1, 1.2, 1.3, 1.4, 1.5]\n",
    "print(float_list)"
   ]
  },
  {
   "cell_type": "code",
   "execution_count": 13,
   "metadata": {},
   "outputs": [
    {
     "name": "stdout",
     "output_type": "stream",
     "text": [
      "The length of the list is 5\n"
     ]
    }
   ],
   "source": [
    "num_float_list = length(float_list)"
   ]
  },
  {
   "cell_type": "code",
   "execution_count": 14,
   "metadata": {},
   "outputs": [],
   "source": [
    "num_float_list"
   ]
  },
  {
   "cell_type": "code",
   "execution_count": 16,
   "metadata": {},
   "outputs": [
    {
     "name": "stdout",
     "output_type": "stream",
     "text": [
      "None\n"
     ]
    }
   ],
   "source": [
    "print(num_float_list)"
   ]
  },
  {
   "cell_type": "code",
   "execution_count": 17,
   "metadata": {},
   "outputs": [
    {
     "data": {
      "text/plain": [
       "NoneType"
      ]
     },
     "execution_count": 17,
     "metadata": {},
     "output_type": "execute_result"
    }
   ],
   "source": [
    "type(num_float_list)"
   ]
  },
  {
   "cell_type": "code",
   "execution_count": null,
   "metadata": {},
   "outputs": [],
   "source": [
    "animal_list = [\"dog\", \"cat\", \"bird\", \"tiger\", \"bear\"]"
   ]
  },
  {
   "cell_type": "code",
   "execution_count": 25,
   "metadata": {},
   "outputs": [
    {
     "data": {
      "text/plain": [
       "5"
      ]
     },
     "execution_count": 25,
     "metadata": {},
     "output_type": "execute_result"
    }
   ],
   "source": [
    "animal_list = [\"dog\", \"cat\", \"bird\", \"tiger\", \"bear\"]\n",
    "len(animal_list)"
   ]
  },
  {
   "cell_type": "code",
   "execution_count": 18,
   "metadata": {},
   "outputs": [],
   "source": [
    "def length(some_list):\n",
    "\n",
    "    count=0\n",
    "    for element in some_list:\n",
    "        count += 1\n",
    "\n",
    "    print(\"The length of the list is\", count) \n",
    "    return count "
   ]
  },
  {
   "cell_type": "code",
   "execution_count": 22,
   "metadata": {},
   "outputs": [],
   "source": [
    "p = [1,2,3,4,5]"
   ]
  },
  {
   "cell_type": "code",
   "execution_count": 23,
   "metadata": {},
   "outputs": [
    {
     "name": "stdout",
     "output_type": "stream",
     "text": [
      "The length of the list is 5\n"
     ]
    }
   ],
   "source": [
    "p = length([1,2,3,4,5])"
   ]
  },
  {
   "cell_type": "code",
   "execution_count": 24,
   "metadata": {},
   "outputs": [
    {
     "data": {
      "text/plain": [
       "5"
      ]
     },
     "execution_count": 24,
     "metadata": {},
     "output_type": "execute_result"
    }
   ],
   "source": [
    "p "
   ]
  },
  {
   "cell_type": "code",
   "execution_count": null,
   "metadata": {},
   "outputs": [],
   "source": []
  },
  {
   "cell_type": "code",
   "execution_count": null,
   "metadata": {},
   "outputs": [],
   "source": []
  },
  {
   "cell_type": "code",
   "execution_count": null,
   "metadata": {},
   "outputs": [],
   "source": []
  },
  {
   "cell_type": "code",
   "execution_count": null,
   "metadata": {},
   "outputs": [],
   "source": []
  },
  {
   "cell_type": "code",
   "execution_count": null,
   "metadata": {},
   "outputs": [],
   "source": []
  },
  {
   "cell_type": "code",
   "execution_count": null,
   "metadata": {},
   "outputs": [],
   "source": []
  },
  {
   "cell_type": "code",
   "execution_count": null,
   "metadata": {},
   "outputs": [],
   "source": []
  },
  {
   "cell_type": "code",
   "execution_count": null,
   "metadata": {},
   "outputs": [],
   "source": []
  }
 ],
 "metadata": {
  "kernelspec": {
   "display_name": "Python 3",
   "language": "python",
   "name": "python3"
  },
  "language_info": {
   "codemirror_mode": {
    "name": "ipython",
    "version": 3
   },
   "file_extension": ".py",
   "mimetype": "text/x-python",
   "name": "python",
   "nbconvert_exporter": "python",
   "pygments_lexer": "ipython3",
   "version": "3.11.1"
  },
  "orig_nbformat": 4,
  "vscode": {
   "interpreter": {
    "hash": "a72afa28c34049cb832911300c6a460f7f5dc07038f0ecb1d2a14cf1fe7e3a7d"
   }
  }
 },
 "nbformat": 4,
 "nbformat_minor": 2
}
