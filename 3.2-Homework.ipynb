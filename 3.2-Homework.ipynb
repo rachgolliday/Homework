{
 "cells": [
  {
   "cell_type": "code",
   "execution_count": null,
   "metadata": {},
   "outputs": [],
   "source": [
    "# Mixed Data type list of colors and numbers\n",
    "\n",
    "colorList = ['blue', 'pink', '1', '2', '3']\n",
    "print = (\"colorList\")\n",
    "\n",
    "# Length of colorList\n",
    "colorList = ['blue', 'pink', '1', '2', '3']\n",
    "\n",
    "# getting List length\n",
    "listLength = len(colorList)\n",
    "print(\"Size of the list = \", length)\n",
    "\n",
    "# Find the first element of the colorList\n",
    "print(\"\\nFirst color....\", colorList)\n",
    "\n",
    "# replace first element in the colorList\n",
    "colorList[1] = \"green\"\n",
    "print(\"first color replaced...\", colorList[1])\n",
    "\n",
    "# Find the first element in the colorList\n",
    "print(\"first color...\", colorList[1])\n",
    "\n",
    "# Replacing blue with green\n",
    "colorList = ['blue', 'pink', '1', '2', '3']\n",
    "colorList[1] = ['green']\n",
    "print(\"replaced [1], colorList\")\n",
    "\n",
    "# 'extend' elements at the end of the List with another\n",
    "colorList = ['green', 'pink', '1', '2', '3']\n",
    "secondList = ['black', 'white']\n",
    "\n",
    "colorList.extend(secondList)\n",
    "print(\"Extend colorList...\", colorList)\n",
    "\n",
    "# print the length of secondList\n",
    "secondList = [\"green\", \"pink\", \"1\", \"2\", \"3\", \"black\", \"white\"]\n",
    "print(\"secondList length =\", len(colorList))\n",
    "\n",
    "# extending original colorList with the secondList sliced\n"
   ]
  }
 ],
 "metadata": {
  "language_info": {
   "name": "python"
  },
  "orig_nbformat": 4
 },
 "nbformat": 4,
 "nbformat_minor": 2
}
