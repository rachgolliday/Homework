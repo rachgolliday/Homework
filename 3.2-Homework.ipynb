{
 "cells": [
  {
   "cell_type": "code",
   "execution_count": 55,
   "metadata": {},
   "outputs": [
    {
     "ename": "TypeError",
     "evalue": "'str' object is not callable",
     "output_type": "error",
     "traceback": [
      "\u001b[1;31m---------------------------------------------------------------------------\u001b[0m",
      "\u001b[1;31mTypeError\u001b[0m                                 Traceback (most recent call last)",
      "Cell \u001b[1;32mIn[55], line 21\u001b[0m\n\u001b[0;32m     18\u001b[0m moreColors[\u001b[39m1\u001b[39m:\u001b[39m3\u001b[39m] \u001b[39m=\u001b[39m [\u001b[39m\"\u001b[39m\u001b[39mblack\u001b[39m\u001b[39m\"\u001b[39m, \u001b[39m\"\u001b[39m\u001b[39msilver\u001b[39m\u001b[39m\"\u001b[39m]\n\u001b[0;32m     20\u001b[0m \u001b[39m# print new List\u001b[39;00m\n\u001b[1;32m---> 21\u001b[0m \u001b[39mprint\u001b[39;49m(moreColors)\n",
      "\u001b[1;31mTypeError\u001b[0m: 'str' object is not callable"
     ]
    }
   ],
   "source": [
    "# Mixed Data type list of colors and numbers\n",
    "\n",
    "colorList = ['blue', 'pink', [1,1], '2', '3']\n",
    "print = (\"colorList\")\n",
    "\n",
    "# replace first element in the colorList\n",
    "colorList[2] = \"green\"\n",
    "\n",
    "# append colorList\n",
    "colorList.append(\"Different colors\")\n",
    "\n",
    "# find and print length of colorList\n",
    "colorList_length = len(colorList)\n",
    "listlength = len(colorList)\n",
    "\n",
    "# slicing a subsection of colorList and naming it something else\n",
    "moreColors = colorList[1:3]\n",
    "moreColors[1:3] = [\"black\", \"silver\"]\n",
    "\n",
    "# print new List\n",
    "print(moreColors)\n",
    "\n",
    "\n"
   ]
  },
  {
   "cell_type": "code",
   "execution_count": 11,
   "metadata": {},
   "outputs": [
    {
     "ename": "NameError",
     "evalue": "name 'moreStuff' is not defined",
     "output_type": "error",
     "traceback": [
      "\u001b[1;31m---------------------------------------------------------------------------\u001b[0m",
      "\u001b[1;31mNameError\u001b[0m                                 Traceback (most recent call last)",
      "Cell \u001b[1;32mIn[11], line 7\u001b[0m\n\u001b[0;32m      5\u001b[0m \u001b[39m# replacing music with pop\u001b[39;00m\n\u001b[0;32m      6\u001b[0m stuff \u001b[39m=\u001b[39m (\u001b[39m\"\u001b[39m\u001b[39mmusic\u001b[39m\u001b[39m\"\u001b[39m, \u001b[39m\"\u001b[39m\u001b[39m1\u001b[39m\u001b[39m\"\u001b[39m, \u001b[39m\"\u001b[39m\u001b[39m2\u001b[39m\u001b[39m\"\u001b[39m, \u001b[39m\"\u001b[39m\u001b[39mtoering\u001b[39m\u001b[39m\"\u001b[39m, [\u001b[39m\"\u001b[39m\u001b[39mneckalace\u001b[39m\u001b[39m\"\u001b[39m, \u001b[39m\"\u001b[39m\u001b[39mearring\u001b[39m\u001b[39m\"\u001b[39m, \u001b[39m\"\u001b[39m\u001b[39msunglasses\u001b[39m\u001b[39m\"\u001b[39m])\n\u001b[1;32m----> 7\u001b[0m moreStuff[\u001b[39m4\u001b[39m:\u001b[39m6\u001b[39m] \u001b[39m=\u001b[39m [\u001b[39m\"\u001b[39m\u001b[39mneckalace\u001b[39m\u001b[39m\"\u001b[39m, \u001b[39m\"\u001b[39m\u001b[39mearring\u001b[39m\u001b[39m\"\u001b[39m, \u001b[39m\"\u001b[39m\u001b[39msunglasses\u001b[39m\u001b[39m\"\u001b[39m]\n\u001b[0;32m      9\u001b[0m stuff[\u001b[39m4\u001b[39m:\u001b[39m6\u001b[39m]\u001b[39m=\u001b[39m \u001b[39m'\u001b[39m\u001b[39mpop\u001b[39m\u001b[39m'\u001b[39m\n\u001b[0;32m     10\u001b[0m \u001b[39mprint\u001b[39m(stuff)\n",
      "\u001b[1;31mNameError\u001b[0m: name 'moreStuff' is not defined"
     ]
    }
   ],
   "source": [
    "# creating a List with five mixed data types\n",
    "\n",
    "stuff = (\"music\", \"1\", \"2\", \"toering\", [\"neckalace\", \"earring\", \"sunglasses\"])\n",
    "\n",
    "# replacing music with pop\n",
    "stuff = (\"music\", \"1\", \"2\", \"toering\", [\"neckalace\", \"earring\", \"sunglasses\"])\n",
    "moreStuff[4:6] = [\"neckalace\", \"earring\", \"sunglasses\"]\n",
    "\n",
    "stuff[4:6]= 'pop'\n",
    "print(stuff)\n",
    "\n",
    "\n",
    "# inserting more items to stuff\n",
    "stuff.insert(\"light\", \"crown\")\n",
    "\n"
   ]
  },
  {
   "cell_type": "code",
   "execution_count": 21,
   "metadata": {},
   "outputs": [
    {
     "ename": "TypeError",
     "evalue": "'str' object is not callable",
     "output_type": "error",
     "traceback": [
      "\u001b[1;31m---------------------------------------------------------------------------\u001b[0m",
      "\u001b[1;31mTypeError\u001b[0m                                 Traceback (most recent call last)",
      "Cell \u001b[1;32mIn[21], line 9\u001b[0m\n\u001b[0;32m      7\u001b[0m \u001b[39m# print the 12th element from moreColors\u001b[39;00m\n\u001b[0;32m      8\u001b[0m item_12 \u001b[39m=\u001b[39m moreColors[\u001b[39m11\u001b[39m]\n\u001b[1;32m----> 9\u001b[0m \u001b[39mprint\u001b[39;49m(item_12)\n\u001b[0;32m     11\u001b[0m \u001b[39m# sort the moreColors and print\u001b[39;00m\n",
      "\u001b[1;31mTypeError\u001b[0m: 'str' object is not callable"
     ]
    }
   ],
   "source": [
    "# creating a tuple with five elements\n",
    "Colors = (\"pink\", \"white\", \"black\", \"green\", \"blue\")\n",
    "\n",
    "# mulitple Colors by 3 and create new tuple\n",
    "moreColors = Colors * 3\n",
    "\n",
    "# print the 12th element from moreColors\n",
    "\n",
    "\n",
    "# sort the moreColors and print\n"
   ]
  },
  {
   "cell_type": "code",
   "execution_count": 12,
   "metadata": {},
   "outputs": [
    {
     "ename": "TypeError",
     "evalue": "'str' object is not callable",
     "output_type": "error",
     "traceback": [
      "\u001b[1;31m---------------------------------------------------------------------------\u001b[0m",
      "\u001b[1;31mTypeError\u001b[0m                                 Traceback (most recent call last)",
      "Cell \u001b[1;32mIn[12], line 9\u001b[0m\n\u001b[0;32m      7\u001b[0m Shoes \u001b[39m=\u001b[39m (\u001b[39m\"\u001b[39m\u001b[39msneakers\u001b[39m\u001b[39m\"\u001b[39m, \u001b[39m\"\u001b[39m\u001b[39msandals\u001b[39m\u001b[39m\"\u001b[39m, \u001b[39m\"\u001b[39m\u001b[39mboots\u001b[39m\u001b[39m\"\u001b[39m, \u001b[39m\"\u001b[39m\u001b[39mheels\u001b[39m\u001b[39m\"\u001b[39m, \u001b[39m\"\u001b[39m\u001b[39mslides\u001b[39m\u001b[39m\"\u001b[39m)\n\u001b[0;32m      8\u001b[0m Colors_Numbers_Animals_Clothes_Shoes \u001b[39m=\u001b[39m Colors \u001b[39m+\u001b[39m Numbers \u001b[39m+\u001b[39m Animals \u001b[39m+\u001b[39m Clothes \u001b[39m+\u001b[39m Shoes\n\u001b[1;32m----> 9\u001b[0m \u001b[39mprint\u001b[39;49m(Colors_Numbers_Animals_Clothes_Shoes)\n\u001b[0;32m     11\u001b[0m Everything \u001b[39m=\u001b[39m Colors_Numbers_Animals_Clothes_Shoes\u001b[39m*\u001b[39m\u001b[39m3\u001b[39m\n\u001b[0;32m     12\u001b[0m \u001b[39mprint\u001b[39m(Everything)\n",
      "\u001b[1;31mTypeError\u001b[0m: 'str' object is not callable"
     ]
    }
   ],
   "source": [
    "# Creating a tuple with five elements\n",
    "\n",
    "Colors = (\"pink\", \"white\", \"black\", \"green\", \"blue\")\n",
    "Numbers = (\"1\", \"2\", \"3\", \"4\", \"5\")\n",
    "Animals = (\"dog\", \"cat\", \"zebra\", \"lion\", \"shark\")\n",
    "Clothes = (\"shirt\", \"skirt\", \"denim\", \"coat\", \"scarf\")\n",
    "Shoes = (\"sneakers\", \"sandals\", \"boots\", \"heels\", \"slides\")\n",
    "Colors_Numbers_Animals_Clothes_Shoes = Colors + Numbers + Animals + Clothes + Shoes\n",
    "print(Colors_Numbers_Animals_Clothes_Shoes)\n",
    "\n",
    "Everything = Colors_Numbers_Animals_Clothes_Shoes*3\n",
    "print(Everything)\n",
    "\n",
    "# finding the 12th element from Everything\n",
    "\n",
    "print(\"Element at index 12:\" , Everything[12])\n",
    "\n",
    "print(\"Element at index 2:\", Everything[2])\n",
    "\n",
    "# copying 4 elements from Everything adding it to new tuple\n",
    "\n",
    "Some = Everything[15:19]\n",
    "print(Some)\n",
    "\n",
    "# Some is turning into 4 variables named More\n",
    "\n",
    "More = Some\n",
    "\n",
    "\n",
    "\n",
    "\n",
    "\n"
   ]
  }
 ],
 "metadata": {
  "kernelspec": {
   "display_name": "Python 3",
   "language": "python",
   "name": "python3"
  },
  "language_info": {
   "codemirror_mode": {
    "name": "ipython",
    "version": 3
   },
   "file_extension": ".py",
   "mimetype": "text/x-python",
   "name": "python",
   "nbconvert_exporter": "python",
   "pygments_lexer": "ipython3",
   "version": "3.11.1"
  },
  "orig_nbformat": 4,
  "vscode": {
   "interpreter": {
    "hash": "a72afa28c34049cb832911300c6a460f7f5dc07038f0ecb1d2a14cf1fe7e3a7d"
   }
  }
 },
 "nbformat": 4,
 "nbformat_minor": 2
}
