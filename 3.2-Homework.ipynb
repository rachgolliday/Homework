{
 "cells": [
  {
   "cell_type": "code",
   "execution_count": 51,
   "metadata": {},
   "outputs": [
    {
     "ename": "TypeError",
     "evalue": "'builtin_function_or_method' object is not subscriptable",
     "output_type": "error",
     "traceback": [
      "\u001b[1;31m---------------------------------------------------------------------------\u001b[0m",
      "\u001b[1;31mTypeError\u001b[0m                                 Traceback (most recent call last)",
      "Cell \u001b[1;32mIn[51], line 10\u001b[0m\n\u001b[0;32m      7\u001b[0m \u001b[39mstr\u001b[39m \u001b[39m=\u001b[39m \u001b[39minput\u001b[39m(\u001b[39m\"\u001b[39m\u001b[39mcolorList :-\u001b[39m\u001b[39m\"\u001b[39m)\n\u001b[0;32m      8\u001b[0m listLength \u001b[39m=\u001b[39m \u001b[39mlen\u001b[39m(colorList)\n\u001b[1;32m---> 10\u001b[0m \u001b[39mprint\u001b[39m(\u001b[39mstr\u001b[39m(\u001b[39mlen\u001b[39;49m[colorList]))\n\u001b[0;32m     12\u001b[0m \u001b[39m# Find the first element of the colorList\u001b[39;00m\n\u001b[0;32m     13\u001b[0m \u001b[39mprint\u001b[39m(\u001b[39m\"\u001b[39m\u001b[39m\\n\u001b[39;00m\u001b[39mFirst color....\u001b[39m\u001b[39m\"\u001b[39m, colorList)\n",
      "\u001b[1;31mTypeError\u001b[0m: 'builtin_function_or_method' object is not subscriptable"
     ]
    }
   ],
   "source": [
    "# Mixed Data type list of colors and numbers\n",
    "\n",
    "colorList = ['blue', 'pink', '1', '2', '3']\n",
    "print = (\"colorList\")\n",
    "\n",
    "colorList[0] = \"green\"\n",
    "print('0 element replaced ... ' , colorList]\n",
    "\n",
    "colorList.append(\"colors\")\n",
    "\n",
    "ListLength = len(colorList)\n",
    "print(Size of colorList = ', ListLength')\n",
    "\n",
    "\n",
    "\n",
    "\n",
    "\n",
    "\n",
    "# extending original colorList with the secondList sliced\n"
   ]
  },
  {
   "cell_type": "code",
   "execution_count": 50,
   "metadata": {},
   "outputs": [
    {
     "ename": "TypeError",
     "evalue": "'tuple' object does not support item assignment",
     "output_type": "error",
     "traceback": [
      "\u001b[1;31m---------------------------------------------------------------------------\u001b[0m",
      "\u001b[1;31mTypeError\u001b[0m                                 Traceback (most recent call last)",
      "Cell \u001b[1;32mIn[50], line 7\u001b[0m\n\u001b[0;32m      5\u001b[0m \u001b[39m# replacing music with pop\u001b[39;00m\n\u001b[0;32m      6\u001b[0m stuff \u001b[39m=\u001b[39m (\u001b[39m\"\u001b[39m\u001b[39mmusic\u001b[39m\u001b[39m\"\u001b[39m, \u001b[39m\"\u001b[39m\u001b[39m1\u001b[39m\u001b[39m\"\u001b[39m, \u001b[39m\"\u001b[39m\u001b[39m2\u001b[39m\u001b[39m\"\u001b[39m, \u001b[39m\"\u001b[39m\u001b[39mtoering\u001b[39m\u001b[39m\"\u001b[39m, [\u001b[39m\"\u001b[39m\u001b[39mneckalace\u001b[39m\u001b[39m\"\u001b[39m, \u001b[39m\"\u001b[39m\u001b[39mearring\u001b[39m\u001b[39m\"\u001b[39m, \u001b[39m\"\u001b[39m\u001b[39msunglasses\u001b[39m\u001b[39m\"\u001b[39m])\n\u001b[1;32m----> 7\u001b[0m moreStuff[\u001b[39m4\u001b[39;49m:\u001b[39m6\u001b[39;49m] \u001b[39m=\u001b[39m [\u001b[39m\"\u001b[39m\u001b[39mneckalace\u001b[39m\u001b[39m\"\u001b[39m, \u001b[39m\"\u001b[39m\u001b[39mearring\u001b[39m\u001b[39m\"\u001b[39m, \u001b[39m\"\u001b[39m\u001b[39msunglasses\u001b[39m\u001b[39m\"\u001b[39m]\n\u001b[0;32m      9\u001b[0m stuff[\u001b[39m4\u001b[39m:\u001b[39m6\u001b[39m]\u001b[39m=\u001b[39m \u001b[39m'\u001b[39m\u001b[39mpop\u001b[39m\u001b[39m'\u001b[39m\n\u001b[0;32m     10\u001b[0m \u001b[39mprint\u001b[39m(stuff)\n",
      "\u001b[1;31mTypeError\u001b[0m: 'tuple' object does not support item assignment"
     ]
    }
   ],
   "source": [
    "# creating a List with five mixed data types\n",
    "\n",
    "stuff = (\"music\", \"1\", \"2\", \"toering\", [\"neckalace\", \"earring\", \"sunglasses\"])\n",
    "\n",
    "# replacing music with pop\n",
    "stuff = (\"music\", \"1\", \"2\", \"toering\", [\"neckalace\", \"earring\", \"sunglasses\"])\n",
    "moreStuff[4:6] = [\"neckalace\", \"earring\", \"sunglasses\"]\n",
    "\n",
    "stuff[4:6]= 'pop'\n",
    "print(stuff)\n",
    "\n",
    "\n",
    "# inserting more items to stuff\n",
    "stuff.insert(\"light\", \"crown\")\n",
    "\n"
   ]
  },
  {
   "cell_type": "code",
   "execution_count": 20,
   "metadata": {},
   "outputs": [
    {
     "name": "stdout",
     "output_type": "stream",
     "text": [
      "('pink', 'white', 'black', 'green', 'blue', '1', '2', '3', '4', '5', 'dog', 'cat', 'zebra', 'lion', 'shark', 'shirt', 'skirt', 'denim', 'coat', 'scarf', 'sneakers', 'sandals', 'boots', 'heels', 'slides')\n",
      "('pink', 'white', 'black', 'green', 'blue', '1', '2', '3', '4', '5', 'dog', 'cat', 'zebra', 'lion', 'shark', 'shirt', 'skirt', 'denim', 'coat', 'scarf', 'sneakers', 'sandals', 'boots', 'heels', 'slides', 'pink', 'white', 'black', 'green', 'blue', '1', '2', '3', '4', '5', 'dog', 'cat', 'zebra', 'lion', 'shark', 'shirt', 'skirt', 'denim', 'coat', 'scarf', 'sneakers', 'sandals', 'boots', 'heels', 'slides', 'pink', 'white', 'black', 'green', 'blue', '1', '2', '3', '4', '5', 'dog', 'cat', 'zebra', 'lion', 'shark', 'shirt', 'skirt', 'denim', 'coat', 'scarf', 'sneakers', 'sandals', 'boots', 'heels', 'slides')\n",
      "Element at index 12: zebra\n",
      "Element at index 2: black\n",
      "('shirt', 'skirt', 'denim', 'coat')\n"
     ]
    }
   ],
   "source": [
    "# Creating a tuple with five elements\n",
    "\n",
    "Colors = (\"pink\", \"white\", \"black\", \"green\", \"blue\")\n",
    "Numbers = (\"1\", \"2\", \"3\", \"4\", \"5\")\n",
    "Animals = (\"dog\", \"cat\", \"zebra\", \"lion\", \"shark\")\n",
    "Clothes = (\"shirt\", \"skirt\", \"denim\", \"coat\", \"scarf\")\n",
    "Shoes = (\"sneakers\", \"sandals\", \"boots\", \"heels\", \"slides\")\n",
    "Colors_Numbers_Animals_Clothes_Shoes = Colors + Numbers + Animals + Clothes + Shoes\n",
    "print(Colors_Numbers_Animals_Clothes_Shoes)\n",
    "\n",
    "Everything = Colors_Numbers_Animals_Clothes_Shoes*3\n",
    "print(Everything)\n",
    "\n",
    "# finding the 12th element from Everything\n",
    "\n",
    "print(\"Element at index 12:\" , Everything[12])\n",
    "\n",
    "print(\"Element at index 2:\", Everything[2])\n",
    "\n",
    "# copying 4 elements from Everything adding it to new tuple\n",
    "\n",
    "Some = Everything[15:19]\n",
    "print(Some)\n",
    "\n",
    "# Some is turning into 4 variables named More\n",
    "\n",
    "More = Some\n",
    "\n",
    "\n",
    "\n",
    "\n",
    "\n"
   ]
  }
 ],
 "metadata": {
  "kernelspec": {
   "display_name": "Python 3",
   "language": "python",
   "name": "python3"
  },
  "language_info": {
   "codemirror_mode": {
    "name": "ipython",
    "version": 3
   },
   "file_extension": ".py",
   "mimetype": "text/x-python",
   "name": "python",
   "nbconvert_exporter": "python",
   "pygments_lexer": "ipython3",
   "version": "3.11.1"
  },
  "orig_nbformat": 4,
  "vscode": {
   "interpreter": {
    "hash": "a72afa28c34049cb832911300c6a460f7f5dc07038f0ecb1d2a14cf1fe7e3a7d"
   }
  }
 },
 "nbformat": 4,
 "nbformat_minor": 2
}
